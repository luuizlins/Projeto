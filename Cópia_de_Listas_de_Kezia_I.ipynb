{
  "nbformat": 4,
  "nbformat_minor": 0,
  "metadata": {
    "colab": {
      "provenance": [],
      "authorship_tag": "ABX9TyN7u1CeRcYAi2kaJRa+Cch1",
      "include_colab_link": true
    },
    "kernelspec": {
      "name": "python3",
      "display_name": "Python 3"
    },
    "language_info": {
      "name": "python"
    }
  },
  "cells": [
    {
      "cell_type": "markdown",
      "metadata": {
        "id": "view-in-github",
        "colab_type": "text"
      },
      "source": [
        "<a href=\"https://colab.research.google.com/github/luuizlins/Projeto/blob/main/C%C3%B3pia_de_Listas_de_Kezia_I.ipynb\" target=\"_parent\"><img src=\"https://colab.research.google.com/assets/colab-badge.svg\" alt=\"Open In Colab\"/></a>"
      ]
    },
    {
      "cell_type": "code",
      "source": [
        "#1-Faça um Programa que peça um número e então mostre a mensagem: O número informado foi [número].\n",
        "numero = float(input(\"insira um número : \"))\n",
        "print(\"o número informado foi\", numero)\n"
      ],
      "metadata": {
        "colab": {
          "base_uri": "https://localhost:8080/"
        },
        "id": "kMyg2Z0mpbyM",
        "outputId": "ece5e53c-f5a0-4a32-f910-9c2c58909ca7"
      },
      "execution_count": null,
      "outputs": [
        {
          "output_type": "stream",
          "name": "stdout",
          "text": [
            "insira um número : 3\n",
            "o número informado foi 3.0\n"
          ]
        }
      ]
    },
    {
      "cell_type": "code",
      "source": [
        "#2 Faça um Programa que peça dois números e imprima a soma.\n",
        "numero1 = float(input(\"insira o primeiro valor  : \"))\n",
        "numero2 = float(input(\"insira o segundo valor : \"))\n",
        "print(f\"O valor da soma é : {numero1 + numero2}\")"
      ],
      "metadata": {
        "colab": {
          "base_uri": "https://localhost:8080/"
        },
        "id": "F4TsI4Y8p2FV",
        "outputId": "13dca807-f5b0-4e24-99de-77a2d9e3ece3"
      },
      "execution_count": null,
      "outputs": [
        {
          "output_type": "stream",
          "name": "stdout",
          "text": [
            "insira o primeiro valor  : 6\n",
            "insira o segundo valor : 7\n",
            "O valor da soma é : 13.0\n"
          ]
        }
      ]
    },
    {
      "cell_type": "code",
      "source": [
        "#3 Faça um Programa que peça as 4 notas bimestrais e mostre a média.\n",
        "\n",
        "media1 = float(input(\"Insira o valor da primeira média : \"))\n",
        "media2 = float(input(\"Insira o valor da segunda média : \"))\n",
        "media3 = float(input(\"Insira o valor da terceira média : \"))\n",
        "media4 = float(input(\"Insira o valor da quarta  média : \"))\n",
        "\n",
        "print((media1+media2+media3+media4)/4)"
      ],
      "metadata": {
        "colab": {
          "base_uri": "https://localhost:8080/"
        },
        "id": "QTOXNcUFsFYi",
        "outputId": "c569e650-801e-4a22-a41f-dab0b07c7cdb"
      },
      "execution_count": null,
      "outputs": [
        {
          "output_type": "stream",
          "name": "stdout",
          "text": [
            "Insira o valor da primeira média : 7.4\n",
            "Insira o valor da segunda média : 2.4\n",
            "Insira o valor da terceira média : 5.0\n",
            "Insira o valor da quarta  média : 10\n",
            "6.2\n"
          ]
        }
      ]
    },
    {
      "cell_type": "code",
      "source": [
        "#4 Faça um Programa que converta metros para centímetros.\n",
        "\n",
        "valorm = float(input(\"Valor em metros \"))\n",
        "print(valorm * 100, \"cm\")"
      ],
      "metadata": {
        "colab": {
          "base_uri": "https://localhost:8080/"
        },
        "id": "oYmdCYPltzwA",
        "outputId": "c2e83c62-2177-4045-9d0e-c5eb9a3a9902"
      },
      "execution_count": null,
      "outputs": [
        {
          "output_type": "stream",
          "name": "stdout",
          "text": [
            "Valor em metros 5\n",
            "500.0 cm\n"
          ]
        }
      ]
    },
    {
      "cell_type": "code",
      "source": [
        "#5 Faça um Programa que peça o raio de um círculo, calcule e mostre sua área.\n",
        "\n",
        "raio = float(input(\"Insira o raio do círculo : \"))\n",
        "print( 3.14 * (raio**2))"
      ],
      "metadata": {
        "colab": {
          "base_uri": "https://localhost:8080/"
        },
        "id": "QEwn9bT3vNLe",
        "outputId": "b7d1382a-317a-47d2-e5bf-bf07582251e2"
      },
      "execution_count": null,
      "outputs": [
        {
          "output_type": "stream",
          "name": "stdout",
          "text": [
            "Insira o raio do círculo : 8\n",
            "200.96\n"
          ]
        }
      ]
    },
    {
      "cell_type": "code",
      "source": [
        "#6 Faça um Programa que calcule a área de um quadrado, em seguida mostre o dobro desta área para o usuário.\n",
        "valorl = float(input(\"Insira o tamanho do lado em m : \"))\n",
        "area = valorl**2\n",
        "print(f\"a area é {area}cm²\")\n",
        "print(f\"o dobro da area é {area * 2}cm²\")"
      ],
      "metadata": {
        "colab": {
          "base_uri": "https://localhost:8080/"
        },
        "id": "y-xEX8Tmwqpe",
        "outputId": "4db2e961-ff51-4c90-9217-2e4b87fdc7f1"
      },
      "execution_count": null,
      "outputs": [
        {
          "output_type": "stream",
          "name": "stdout",
          "text": [
            "Insira o tamanho do lado em m : 7\n",
            "a area é 49.0cm²\n",
            "o dobro da area é 98.0cm²\n"
          ]
        }
      ]
    },
    {
      "cell_type": "code",
      "source": [
        "#7 Faça um Programa que pergunte quanto você ganha por hora e o número de horas trabalhadas no mês. Calcule e mostre o total do seu salário no referido mês.\n",
        "ganhoh = float(input(\"Quanto você ganha por hora : \"))\n",
        "horas = float(input(\"Quantas horas você trabalha no mês : \"))\n",
        "print(f\"Salário Mensal : { ganhoh * horas}R$\")\n"
      ],
      "metadata": {
        "colab": {
          "base_uri": "https://localhost:8080/"
        },
        "id": "vwryr02izS6r",
        "outputId": "59089053-500e-43ac-fc5f-e82246f7d498"
      },
      "execution_count": null,
      "outputs": [
        {
          "output_type": "stream",
          "name": "stdout",
          "text": [
            "Quanto você ganha por hora : 5.51\n",
            "Quantas horas você trabalha no mês : 220\n",
            "Salário Mensal : 1212.2R$\n"
          ]
        }
      ]
    },
    {
      "cell_type": "code",
      "source": [
        "#8 Faça um Programa que peça a temperatura em graus Farenheit, transforme e mostre a temperatura em graus Celsius. C = (5 * (F-32) / 9).\n",
        "temperaturaf = float(input(\"Temperatura em Farenheit : \"))\n",
        "celsius = ((5 * (temperaturaf - 32 ))/9)\n",
        "print(f\"{temperaturaf}F --> {celsius:.1f}C\")"
      ],
      "metadata": {
        "colab": {
          "base_uri": "https://localhost:8080/"
        },
        "id": "CzlH17ia1bFk",
        "outputId": "c124a351-6fef-4c76-9cbe-20083ba0b022"
      },
      "execution_count": null,
      "outputs": [
        {
          "output_type": "stream",
          "name": "stdout",
          "text": [
            "Temperatura em Farenheit : 58\n",
            "58.0F --> 14.4C\n"
          ]
        }
      ]
    },
    {
      "cell_type": "code",
      "source": [
        "#9 Faça um Programa que peça a temperatura em graus Celsius, transforme e mostre em graus Farenheit. F = ((C * 9)/5) + 32\n",
        "temperaturac = float(input(\"Temperatura em Celsius : \"))\n",
        "farenheit = (((temperaturac * 9)/5) + 32)\n",
        "print(f\"{temperaturac}C --> {farenheit}F\")"
      ],
      "metadata": {
        "colab": {
          "base_uri": "https://localhost:8080/"
        },
        "id": "kndCju1c3hT_",
        "outputId": "55c93978-5b99-43b8-d692-9aeb76520f83"
      },
      "execution_count": null,
      "outputs": [
        {
          "output_type": "stream",
          "name": "stdout",
          "text": [
            "Temperatura em Celsius : 5\n",
            "5.0C --> 41.0F\n"
          ]
        }
      ]
    },
    {
      "cell_type": "code",
      "source": [
        "#10 Elaborar um algoritmo que efetue a apresentação do valor da conversão em real (R$) de um valor lido em dólar (US$). O algoritmo deverá solicitar o valor da cotação do dólar e também a quantidade de dólares disponíveis com o usuário.\n",
        "valord = float(input(\"Valor em dólar : \"))\n",
        "cotacao = float(input(\"Cotação do dólar : \"))\n",
        "valorreal = float(valord * cotacao)\n",
        "print(f\"{valord}U$D --> {valorreal:.2f}R$\")"
      ],
      "metadata": {
        "colab": {
          "base_uri": "https://localhost:8080/"
        },
        "id": "oGctRcVW5NOG",
        "outputId": "9653fde5-4274-4ec5-b3bc-05c527f18bdc"
      },
      "execution_count": null,
      "outputs": [
        {
          "output_type": "stream",
          "name": "stdout",
          "text": [
            "Valor em dólar : 25\n",
            "Cotação do dólar : 5.51\n",
            "25.0U$D --> 137.75R$\n"
          ]
        }
      ]
    },
    {
      "cell_type": "code",
      "source": [
        "#11 Faça um algoritmo que receba um valor que foi depositado e exiba o valor com rendimento após um mês. Considere fixo o juro da poupança em 0,70% a. m.\n",
        "valor = float(input(\"Valor do deposito : \"))\n",
        "rendimento = float(valor * (0.70/100))\n",
        "print(f\"Valor final : {rendimento + valor}\")"
      ],
      "metadata": {
        "colab": {
          "base_uri": "https://localhost:8080/"
        },
        "id": "sJ8BN8bO7fa7",
        "outputId": "01a69713-b174-426a-ce05-4fff837372e5"
      },
      "execution_count": null,
      "outputs": [
        {
          "output_type": "stream",
          "name": "stdout",
          "text": [
            "Valor do deposito : 80\n",
            "Valor final : 80.56\n"
          ]
        }
      ]
    },
    {
      "cell_type": "code",
      "source": [
        "#12 A Loja Mamão com Açúcar está vendendo seus produtos em 5 (cinco) prestações sem juros. Faça um algoritmo que receba um valor de uma compra e mostre o valor das prestações.\n",
        "valor = float(input(\"Valor da compra : \"))\n",
        "prestacoes = (valor/5)\n",
        "print(f\"Prestações : {prestacoes}R$\")"
      ],
      "metadata": {
        "colab": {
          "base_uri": "https://localhost:8080/"
        },
        "id": "RGtNNAtTABv4",
        "outputId": "bef20d3b-c0e2-451a-d57e-d993becaae78"
      },
      "execution_count": null,
      "outputs": [
        {
          "output_type": "stream",
          "name": "stdout",
          "text": [
            "Valor da compra : 200\n",
            "Prestações : 40.0R$\n"
          ]
        }
      ]
    },
    {
      "cell_type": "code",
      "source": [
        "#13 Faça um algoritmo que receba o preço de custo de um produto e mostre o valor de venda. Sabe-se que o preço de custo receberá um acréscimo de acordo com um percentual informado pelo usuário.\n",
        "preco = float(input(\"Digite o preço do porduto : \"))\n",
        "acrescimo = float(input(\"Digite o valor do acréscimo : \"))\n",
        "valorvenda = (preco * acrescimo/100)\n",
        "print(f\"Valor do acréscimo : {valorvenda}R$\")\n",
        "print(f\"Valor da venda : {valorvenda + preco}R$\")\n",
        "\n"
      ],
      "metadata": {
        "colab": {
          "base_uri": "https://localhost:8080/"
        },
        "id": "orDRUdcaBLGN",
        "outputId": "d9fee5ea-8f9f-401f-cdad-78ecb4ea694f"
      },
      "execution_count": null,
      "outputs": [
        {
          "output_type": "stream",
          "name": "stdout",
          "text": [
            "Digite o preço do porduto : 76\n",
            "Digite o valor do acréscimo : 10\n",
            "Valor do acréscimo : 7.6R$\n",
            "Valor da venda : 83.6R$\n"
          ]
        }
      ]
    },
    {
      "cell_type": "code",
      "source": [
        "#14 Escrever um algoritmo para determinar o consumo médio de um automóvel sendo fornecida a distância total percorrida pelo automóvel e o total de combustível gasto.\n",
        "distancia = float(input(\"Distância percorrida em km : \"))\n",
        "combustivel = float(input(\"Combustível gasto em litros : \"))\n",
        "print(f\"{(distancia/combustivel):.2f}km/l\")"
      ],
      "metadata": {
        "colab": {
          "base_uri": "https://localhost:8080/"
        },
        "id": "qDXW0llQdrGM",
        "outputId": "206f64f6-81ab-4650-ff59-a1c5301b7115"
      },
      "execution_count": null,
      "outputs": [
        {
          "output_type": "stream",
          "name": "stdout",
          "text": [
            "Distância percorrida em km : 77\n",
            "Combustível gasto em litros : 7\n",
            "11.00km/l\n"
          ]
        }
      ]
    },
    {
      "cell_type": "code",
      "source": [
        "#15 Escreva um programa que leia três números inteiros e positivos (A, B, C) e calcule a seguinte expressão:, onde  D = R + S/2   R(A+B)²   S=(B+C)²\n",
        "A = int(input(\"Digite um número inteiro : \"))\n",
        "B = int(input(\"Digite um número inteiro : \"))\n",
        "C = int(input(\"Digite um número inteiro : \"))\n",
        "\n",
        "S = (B + C)**2\n",
        "R = (A + B)**2\n",
        "D = ((R + S)/2)\n",
        "print(f\"O resultado do cálculo é  {D}\")\n"
      ],
      "metadata": {
        "colab": {
          "base_uri": "https://localhost:8080/"
        },
        "id": "cb23IEKRi5_g",
        "outputId": "b2b66eaa-9dfa-45bc-8470-d9fac1412ac7"
      },
      "execution_count": null,
      "outputs": [
        {
          "output_type": "stream",
          "name": "stdout",
          "text": [
            "Digite um número inteiro : 4\n",
            "Digite um número inteiro : 3\n",
            "Digite um número inteiro : 1\n",
            "32.5\n"
          ]
        }
      ]
    },
    {
      "cell_type": "code",
      "source": [
        "#16 Escrever um algoritmo que leia o nome de um vendedor, o seu salário fixo e o total de vendas efetuadas por ele no mês (em dinheiro). Sabendo que este vendedor ganha 15% de comissão sobre suas vendas efetuadas, informar o seu nome, o salário fixo e salário no final do mês. A REVISAR\n",
        "nome = (input(\"Digite o nome : \"))\n",
        "salariofixo = float(input(\"Digite o valor do sálario :\"))\n",
        "vendas = int(input(\"Total de vendas : \"))\n",
        "comissao = vendas * 0.15\n",
        "print(f\"Vendedor  {nome} Sálario Fixo {salariofixo}R$ Sálario Final {salariofixo+comissao}R$\")"
      ],
      "metadata": {
        "colab": {
          "base_uri": "https://localhost:8080/"
        },
        "id": "WM6BjP4An68B",
        "outputId": "e9a2e467-1952-4cd6-ef04-5392d3377d97"
      },
      "execution_count": null,
      "outputs": [
        {
          "output_type": "stream",
          "name": "stdout",
          "text": [
            "Digite o nome : luuiz\n",
            "Digite o valor do sálario :1350\n",
            "Total de vendas : 80\n",
            "Vendedor  luuiz Sálario Fixo 1350.0R$ Sálario Final 1362.0R$\n"
          ]
        }
      ]
    },
    {
      "cell_type": "code",
      "source": [
        "\n",
        "#17 Faça um Programa que peça 2 números inteiros e um número real. Calcule e mostre:\n",
        "#• o produto do dobro do primeiro com metade do segundo .\n",
        "#• a soma do triplo do primeiro com o terceiro.\n",
        "#• o terceiro elevado ao cubo.\n",
        "\n",
        "numero1 = int(input(\"Digite um número inteiro : \"))\n",
        "numero2 = int(input(\"Digite um número inteiro : \"))\n",
        "numero3 = float(input(\"Digite um número real : \"))\n",
        "\n",
        "print((numero1*2) * (numero2/2))\n",
        "print((numero1*3) + numero3)\n",
        "print(f\"{numero3**3:.2f}\")"
      ],
      "metadata": {
        "colab": {
          "base_uri": "https://localhost:8080/"
        },
        "id": "WOYdPfIK41QR",
        "outputId": "8b756f82-ccde-4870-e81e-e71f9ef0252e"
      },
      "execution_count": null,
      "outputs": [
        {
          "output_type": "stream",
          "name": "stdout",
          "text": [
            "Digite um número inteiro : 4\n",
            "Digite um número inteiro : 3\n",
            "Digite um número real : 6.7\n",
            "12.0\n",
            "18.7\n",
            "300.76\n"
          ]
        }
      ]
    },
    {
      "cell_type": "code",
      "source": [
        "#18 Tendo como dados de entrada a altura de uma pessoa, construa um algoritmo que calcule seu peso ideal, usando a seguinte fórmula: (72.7*altura) – 58.\n",
        "altura = float(input(\"Digite a sua altura : \"))\n",
        "pesoideal = ((72.7*altura)-58 )\n",
        "print(f\"Peso ideal : {pesoideal:.2f}\")"
      ],
      "metadata": {
        "colab": {
          "base_uri": "https://localhost:8080/"
        },
        "id": "uQzlC76DCkU4",
        "outputId": "221c9163-7bbe-437f-e22b-db5c5debd21d"
      },
      "execution_count": null,
      "outputs": [
        {
          "output_type": "stream",
          "name": "stdout",
          "text": [
            "Digite a sua altura : 1.74\n",
            "Peso ideal : 68.50\n"
          ]
        }
      ]
    },
    {
      "cell_type": "code",
      "source": [
        "#19 Faça um programa que peça o tamanho de um arquivo para download (em MB) e a velocidade de um link de Internet (em MBps), calcule e informe o tempo aproximado de download do arquivo usando este link (em minutos).\n",
        "arquivo = float(input(\"Tamanho do arquivo em mb : \"))\n",
        "velocidade = float(input(\"Velocidade da Internet em MBps : \"))\n",
        "arquivoembps = arquivo*8\n",
        "tempo = (arquivo/(velocidade *60))\n",
        "print(f\"Tempo aproximado de dowload : {tempo:.3f} minutos\")\n",
        "\n"
      ],
      "metadata": {
        "colab": {
          "base_uri": "https://localhost:8080/"
        },
        "id": "_YhQh1nZFYjO",
        "outputId": "c275806e-165e-422d-ac26-204814d19317"
      },
      "execution_count": null,
      "outputs": [
        {
          "output_type": "stream",
          "name": "stdout",
          "text": [
            "Tamanho do arquivo em mb : 10\n",
            "Velocidade da Internet em MBps : 100\n",
            "Tempo aproximado de dowload : 0.002 minutos\n"
          ]
        }
      ]
    },
    {
      "cell_type": "code",
      "source": [
        "#20. Ler dois valores para as variáveis A e B, e efetuar as trocas dos valores de forma que a variável A passe a possuir o valor da variável B e a variável B passe a possuir o valor da variável A. Apresentar os valores trocados.\n",
        "valora = float(input(\"Digite o valor para A : \"))\n",
        "valorb = float(input(\"Digite o valor para B : \"))\n",
        "\n",
        "aux = valora\n",
        "valora = valorb\n",
        "valorb = aux\n",
        "\n",
        "print(f\"O valor de a : {valora} , o valor de B : {valorb}\")"
      ],
      "metadata": {
        "colab": {
          "base_uri": "https://localhost:8080/"
        },
        "id": "fDCBhJ6iNZNG",
        "outputId": "d27dcae1-3560-4949-efa1-f472cf886280"
      },
      "execution_count": null,
      "outputs": [
        {
          "output_type": "stream",
          "name": "stdout",
          "text": [
            "Digite o valor para A : 1\n",
            "Digite o valor para B : 2\n",
            "O valor de a : 2.0 , o valor de B : 1.0\n"
          ]
        }
      ]
    },
    {
      "cell_type": "code",
      "source": [
        "#21 Faça um Programa que pergunte quanto você ganha por hora e o número de horas trabalhadas no mês. Calcule e mostre o total do seu salário no referido mês, sabendo-se que são descontados 11% para o Imposto de Renda, 8% para o INSS e 5% para o sindicato, faça um programa que nos dê:\n",
        "#a) salário bruto.\n",
        "#b) quanto pagou ao INSS.\n",
        "#c) quanto pagou ao sindicato.\n",
        "#d) o salário líquido.\n",
        "#e) calcule os descontos e o salário líquido, conforme a tabela abaixo:\n",
        "#Salário Bruto : R$\n",
        "#IR (11%) : R$\n",
        "#INSS (8%) : R$\n",
        "#Sindicato ( 5%) : R$\n",
        "#Salário Liquido : R$\n",
        "#Obs.: Salário Bruto - Descontos = Salário Líquido.\n",
        "\n",
        "ganhahora = float(input(\"Digite aqui quanto ganha por hora :\"))\n",
        "numerohora = float(input(\"Digite aqui quantas horas trabalha ao mês : \"))\n",
        "\n",
        "salariobruto = (ganhahora * numerohora)\n",
        "\n",
        "impostorenda = (salariobruto*11/100)\n",
        "inss = (salariobruto*8/100)\n",
        "sindicato = (salariobruto*5/100)\n",
        "\n",
        "descontos = (impostorenda+inss+sindicato)\n",
        "salarioliquido = (salariobruto-descontos)\n",
        "\n",
        "\n",
        "print(f\"Salário Bruto :{salariobruto}R$\\nImposto de Renda : {impostorenda:.2f}R$\\nINSS : {inss:.2f}R$\\nSindicato : {sindicato}R$\\nSalário Líquido {salarioliquido:.2f}R$\")"
      ],
      "metadata": {
        "colab": {
          "base_uri": "https://localhost:8080/"
        },
        "id": "fSnIU-BhTANi",
        "outputId": "59e0cf0c-fabd-4d68-9438-6b952fd77c79"
      },
      "execution_count": null,
      "outputs": [
        {
          "output_type": "stream",
          "name": "stdout",
          "text": [
            "Digite aqui quanto ganha por hora :6\n",
            "Digite aqui quantas horas trabalha ao mês : 220\n",
            "Salário Bruto :1320.0R$\n",
            "Imposto de Renda 145.20R$\n",
            "INSS : 105.60R$\n",
            "Sindicato : 66.0R$\n",
            "Salário Líquido 1003.20R$\n"
          ]
        }
      ]
    },
    {
      "cell_type": "code",
      "source": [
        "#22 Faça um Programa que peça dois números e imprima o maior deles.\n",
        "numero1 = float(input(\"Digite um valor : \"))\n",
        "numero2 = float(input(\"Digite outro valor : \"))\n",
        "\n",
        "if numero1 > numero2:\n",
        "  print(f\"O maior valor é :{numero1}\")\n",
        "else:\n",
        "  print(f\"O maior valor é : {numero2}\")"
      ],
      "metadata": {
        "colab": {
          "base_uri": "https://localhost:8080/"
        },
        "id": "M5-jSo5TCybR",
        "outputId": "1d7dc962-5201-4efc-a02c-69e55cf61789"
      },
      "execution_count": null,
      "outputs": [
        {
          "output_type": "stream",
          "name": "stdout",
          "text": [
            "Digite um valor : 4\n",
            "Digite outro valor : 1\n",
            "O maior valor é :4.0\n"
          ]
        }
      ]
    },
    {
      "cell_type": "code",
      "source": [
        "#23 Faça um Programa que peça um valor e mostre na tela se o valor é positivo ou negativo.\n",
        "numero = float(input(\"Digite um número : \"))\n",
        "if numero >= 0:\n",
        "  print(\"O número é postivo!\")\n",
        "else:\n",
        "    print(\"O número é Negativo! \")"
      ],
      "metadata": {
        "id": "GOI_P545DkZo",
        "colab": {
          "base_uri": "https://localhost:8080/"
        },
        "outputId": "2347c091-0157-41dc-d9d1-b882c2b465d3"
      },
      "execution_count": null,
      "outputs": [
        {
          "output_type": "stream",
          "name": "stdout",
          "text": [
            "Digite um número : 8\n",
            "O número é postivo!\n"
          ]
        }
      ]
    },
    {
      "cell_type": "code",
      "source": [
        "#24.\tFaça um Programa que verifique se uma letra digitada é \"F\" ou \"M\". Conforme a letra escrever: F - Feminino, M - Masculino, Sexo Inválido.\n",
        "\n",
        "letra = str(input(\"Digite uma letra : \"))\n",
        "if letra == 'F':\n",
        "  print(\" Feminino! \")\n",
        "elif letra == 'M':\n",
        "  print(\"Masculino! \")\n",
        "else:\n",
        "  print(\"Sexo inválido! \")\n",
        "\n",
        "  #SEM ELIF\n",
        "letra = str(input(\"Digite uma letra : \"))\n",
        "if letra == 'F':\n",
        "  print(\"Feminino! \")\n",
        "else:\n",
        "  if letra == 'M':\n",
        "    print(\"Masculino! \")\n",
        "  else:\n",
        "    print(\"Sexo inválido! \")"
      ],
      "metadata": {
        "id": "LAOW9iDxxJlp",
        "colab": {
          "base_uri": "https://localhost:8080/"
        },
        "outputId": "34c76f6d-2d77-46b0-f872-c9aab1db98dd"
      },
      "execution_count": null,
      "outputs": [
        {
          "output_type": "stream",
          "name": "stdout",
          "text": [
            "Digite uma letra : h\n",
            "Sexo inválido! \n",
            "Digite uma letra : h\n",
            "Sexo inválido! \n"
          ]
        }
      ]
    },
    {
      "cell_type": "code",
      "source": [
        "#25.\tFaça um programa para a leitura de duas notas parciais de um aluno. O programa deve calcular a média alcançada por aluno e apresentar:\n",
        "#A mensagem \"Aprovado\", se a média alcançada for maior ou igual a sete;\n",
        "#A mensagem \"Reprovado\", se a média for menor do que sete;\n",
        "#A mensagem \"Aprovado com Distinção\", se a média for igual a dez.\n",
        "\n",
        "numer1 = float(input(\"Digite a primeira nota! \"))\n",
        "numero2 = float(input(\"Digite a segunda nota! \"))\n",
        "\n",
        "media = (numer1+numero2)/2\n",
        "\n",
        "if media > 10:\n",
        " print(\"Inválido! \")\n",
        "else:\n",
        " if media == 10:\n",
        "  print(\"Aprovado com Distinção! \")\n",
        " else:\n",
        "  if media >= 7:\n",
        "    print(\"Aprovado! \")\n",
        "  else:\n",
        "      print(\"Reprovado! \")\n",
        "\n",
        "\n",
        "\n",
        "\n"
      ],
      "metadata": {
        "colab": {
          "base_uri": "https://localhost:8080/"
        },
        "id": "U3sebqpV2yEX",
        "outputId": "d06b330c-82e1-4e08-861d-a1493be9edf6"
      },
      "execution_count": null,
      "outputs": [
        {
          "output_type": "stream",
          "name": "stdout",
          "text": [
            "Digite a primeira nota! 1\n",
            "Digite a segunda nota! 2\n",
            "Reprovado! \n"
          ]
        }
      ]
    },
    {
      "cell_type": "code",
      "source": [
        "#26\tFaça um Programa que leia três números e mostre o maior deles.\n",
        "\n",
        "numero1 = float(input(\"Digite um número! \"))\n",
        "numero2 = float(input(\"Digite um número! \"))\n",
        "numero3 = float(input(\"Digite um número! \"))\n",
        "\n",
        "\n",
        "if numero1 == numero2 == numero3:\n",
        "  print(\"Todos os valores são iguais! \")\n",
        "else:\n",
        " if numero1 > numero2 and numero1 > numero3:\n",
        "  print(f\"O número {numero1} é o maior\")\n",
        " else:\n",
        "    if numero2 > numero1 and numero2 > numero3:\n",
        "        print(f\"O número {numero2} é o maior : \")\n",
        "    else:\n",
        "        print(f\"O número {numero3} é o maior :\")"
      ],
      "metadata": {
        "colab": {
          "base_uri": "https://localhost:8080/"
        },
        "id": "3WlFeP2q-lF1",
        "outputId": "446e56d1-b39d-456d-8898-3738c08c178d"
      },
      "execution_count": null,
      "outputs": [
        {
          "output_type": "stream",
          "name": "stdout",
          "text": [
            "Digite um número! 70\n",
            "Digite um número! 7\n",
            "Digite um número! 100\n",
            "O número 100.0 é o maior :\n"
          ]
        }
      ]
    },
    {
      "cell_type": "code",
      "source": [
        "#27.\tFaça um programa que pergunte o preço de três produtos e informe qual produto você deve comprar, sabendo que a decisão é sempre pelo mais barato.\n",
        "\n",
        "numero1 = float(input(\"Digite um número! \"))\n",
        "numero2 = float(input(\"Digite um número! \"))\n",
        "numero3 = float(input(\"Digite um número! \"))\n",
        "\n",
        "if numero1 == numero2 == numero3:\n",
        " print(\"Todos valores são iguais! \")\n",
        "else:\n",
        "  if numero1 < numero2 and numero1 < numero3:\n",
        "   print(f\"O produto mais barato é : {numero1}\")\n",
        "  else:\n",
        "    if numero2 < numero1 and numero2 < numero3:\n",
        "      print(f\"O produto mais barato é : {numero2}\")\n",
        "    else:\n",
        "     print(f\"O produto mais barato é : {numero3}\")\n",
        "\n",
        "\n",
        "\n"
      ],
      "metadata": {
        "colab": {
          "base_uri": "https://localhost:8080/"
        },
        "id": "sG6ggH5bHbgc",
        "outputId": "3cf29aff-9d23-4582-9044-2af544034a7b"
      },
      "execution_count": null,
      "outputs": [
        {
          "output_type": "stream",
          "name": "stdout",
          "text": [
            "Digite um número! 1\n",
            "Digite um número! 2\n",
            "Digite um número! 3\n",
            "O produto mais barato é : 1.0\n"
          ]
        }
      ]
    },
    {
      "cell_type": "code",
      "source": [
        "#28.Faça um Programa que pergunte em que turno você estuda. Peça para digitar M-matutino ou V-Vespertino ou N- Noturno. Imprima a mensagem \"Bom Dia!\", \"Boa Tarde!\" ou \"Boa Noite!\" ou \"Valor Inválido!\", conforme o caso.\n",
        "\n",
        "letra =  str(input(\"Digite em qual turno você estuda?(M para Matutiono, V para Vespertino, N para Noturno) : \"))\n",
        "\n",
        "\n",
        "if letra == 'M':\n",
        "    print(\"Bom dia! \")\n",
        "else:\n",
        "    if letra == 'V':\n",
        "     print(\"Boa tarde! \")\n",
        "    else:\n",
        "      if letra == 'N':\n",
        "       print(\"Boa Noite! \")\n",
        "      else:\n",
        "        print(\"Valor Inválido! \")\n",
        "\n",
        "\n"
      ],
      "metadata": {
        "colab": {
          "base_uri": "https://localhost:8080/"
        },
        "id": "gFHKKkRqJ5Pa",
        "outputId": "099f92da-9a08-4cfa-da8f-100c1a7a1483"
      },
      "execution_count": null,
      "outputs": [
        {
          "output_type": "stream",
          "name": "stdout",
          "text": [
            "Digite em qual turno você estuda?(M para Matutiono, V para Vespertino, N para Noturno) : N\n",
            "Boa Noite! \n"
          ]
        }
      ]
    },
    {
      "cell_type": "code",
      "source": [
        "#29.\tAs Organizações Tabajara resolveram dar um aumento de salário aos seus colaboradores e lhe contrataram para desenvolver o programa que calculará os reajustes. Faça um programa que recebe o salário de um colaborador e o reajuste segundo o seguinte critério, baseado no salário atual:\n",
        "#salários até R$ 280,00 (incluindo): aumento de 20%\n",
        "#salários entre R$ 280,00 e R$ 700,00: aumento de 15%\n",
        "#salários entre R$ 700,00 e R$ 1500,00: aumento de 10%\n",
        "#salários de R$ 1500,00 em diante: aumento de 5%\n",
        "#Após o aumento ser realizado, informe na tela:\n",
        "\n",
        "#o salário antes do reajuste;\n",
        "#o percentual de aumento aplicado;\n",
        "#o valor do aumento;\n",
        "#o novo salário, após o aumento.\n",
        "\n",
        "salario = float(input(\"Digite seu sálario : \"))\n",
        "\n",
        "\n",
        "if salario == 0:\n",
        " print(\"Porfavor insira um valor! \")\n",
        "else:\n",
        "  if salario <= 280:\n",
        "   percentual = (20/100)\n",
        "   salarionovo = salario * 20/100\n",
        "   print(f\"Seu sálario atual é : {salario} \")\n",
        "   print(f\"O percentual aplicado : {percentual} \")\n",
        "   print(f\"O valor do aumento é : {salarionovo} \")\n",
        "   print(f\"O novo sálario é : {salario + salarionovo} \")\n",
        "\n",
        "  else:\n",
        "   if salario <= 700:\n",
        "    percentual = (15/100)\n",
        "    salarionovo = salario * 15/100\n",
        "    print(f\"Seu sálario atual é : {salario} \")\n",
        "    print(f\"O percentual aplicado : {percentual}% \")\n",
        "    print(f\"O valor do aumento é : {salarionovo} \")\n",
        "    print(f\"O novo sálario é : {salario + salarionovo} \")\n",
        "   else:\n",
        "     if salario <= 1500:\n",
        "      percentual = (10/100)\n",
        "      salarionovo = salario * 10/100\n",
        "      print(f\"Seu sálario atual é : {salario} \")\n",
        "      print(f\"O percentual aplicado : {percentual} \")\n",
        "      print(f\"O valor do aumento é : {salarionovo} \")\n",
        "      print(f\"O novo sálario é : {salario + salarionovo} \")\n",
        "     else:\n",
        "      percentual = (5/100)\n",
        "      salarionovo = salario * 5/100\n",
        "      print(f\"Seu sálario atual é : {salario} \")\n",
        "      print(f\"O percentual aplicado : {percentual} \")\n",
        "      print(f\"O valor do aumento é : {salarionovo} \")\n",
        "      print(f\"O novo sálario é : {salario + salarionovo} \")"
      ],
      "metadata": {
        "colab": {
          "base_uri": "https://localhost:8080/"
        },
        "id": "IwPIVdxlRI5L",
        "outputId": "4152ac08-a5c6-4f34-8e72-e3236fd54e73"
      },
      "execution_count": null,
      "outputs": [
        {
          "output_type": "stream",
          "name": "stdout",
          "text": [
            "Digite seu sálario : 1760\n",
            "Seu sálario atual é : 1760.0 \n",
            "O percentual aplicado : 0.05 \n",
            "O valor do aumento é : 88.0 \n",
            "O novo sálario é : 1848.0 \n"
          ]
        }
      ]
    },
    {
      "cell_type": "code",
      "source": [
        "#30.\tFaça um programa para o cálculo de uma folha de pagamento, sabendo que os descontos são do Imposto de Renda, que depende do salário bruto (conforme tabela abaixo) e 3% para o Sindicato e que o FGTS corresponde a 11% do Salário Bruto, mas não é descontado (é a empresa que deposita). O Salário Líquido corresponde ao Salário Bruto menos os descontos. O programa deverá pedir ao usuário o valor da sua hora e a quantidade de horas trabalhadas no mês.\n",
        "#Desconto do IR:\n",
        "#Salário Bruto até 900 (inclusive) - isento\n",
        "#Salário Bruto até 1500 (inclusive) - desconto de 5%\n",
        "#Salário Bruto até 2500 (inclusive) - desconto de 10%\n",
        "#Salário Bruto acima de 2500 - desconto de 20% Imprima na tela as informações, dispostas conforme o exemplo abaixo. No exemplo o valor da hora é 5 e a quantidade de hora é 220.\n",
        "\n",
        "#i.\tSalário Bruto: (5 * 220)        : R$ 1100,00\n",
        "#ii.\t(-) IR (5%)                     : R$   55,00\n",
        "#iii.\t(-) INSS ( 10%)                 : R$  110,00\n",
        "#iv.\tFGTS (11%)                      : R$  121,00\n",
        "#v.\tTotal de descontos              : R$  165,00\n",
        "#vi.\tSalário Liquido                 : R$  935,00\n",
        "\n",
        "valorhora = float(input(\"Valor da hora de trabalho : \"))\n",
        "horas = float(input(\"Quantidade de horas por mês: \"))\n",
        "\n",
        "salariobruto = (valorhora * horas)\n",
        "\n",
        "if salariobruto <= 900:\n",
        "  ir = 0\n",
        "else:\n",
        "  if salariobruto <= 1500:\n",
        "    ir = 5\n",
        "  else:\n",
        "    if salariobruto <= 2500:\n",
        "      ir = 10\n",
        "    else:\n",
        "      ir = 20\n",
        "\n",
        "  ir = salariobruto * (ir/100)\n",
        "  sindicato = salariobruto * (3/100)\n",
        "  inss = salariobruto * (10/100)\n",
        "  fgts = salariobruto * (11/100)\n",
        "  totaldescontos = ir + inss + sindicato\n",
        "  salarioliquido = salariobruto - totaldescontos\n",
        "\n",
        "print(f\"Salário Bruto : {salariobruto} \\n (-)IR : {ir}\\n (-)INSS : {inss}\\n Sindicato : {sindicato}\\n FGTS = {fgts}\\n Total de descontos : {totaldescontos}\\n Salário Líquido : {salarioliquido}\")\n",
        "\n"
      ],
      "metadata": {
        "colab": {
          "base_uri": "https://localhost:8080/"
        },
        "id": "iAiWirvDsqOL",
        "outputId": "5e1ac92a-1081-4711-db25-5ff4ecf38a6a"
      },
      "execution_count": null,
      "outputs": [
        {
          "output_type": "stream",
          "name": "stdout",
          "text": [
            "Valor da hora de trabalho : 7\n",
            "Quantidade de horas por mês: 300\n",
            "Salário Bruto : 2100.0 \n",
            " (-)IR : 210.0\n",
            " (-)INSS : 210.0\n",
            " Sindicato : 63.0\n",
            " FGTS = 231.0\n",
            " Total de descontos : 483.0\n",
            " Salário Líquido : 1617.0\n"
          ]
        }
      ]
    },
    {
      "cell_type": "code",
      "source": [
        "#31 Faça um Programa que leia um número e exiba o dia correspondente da semana. (1-Domingo, 2- Segunda, etc.), se digitar outro valor deve aparecer valor inválido.\n",
        "\n",
        "dia = int(input(\"Digite um número correspondendo a um dia da semana \"))\n",
        "\n",
        "if dia == 1:\n",
        "   print(\"Domingo\")\n",
        "else:\n",
        "  if dia == 2:\n",
        "   print(\"Segunda-feira \")\n",
        "  else:\n",
        "    if dia == 3:\n",
        "     print(\"Terça-feira \")\n",
        "    else:\n",
        "      if dia == 4:\n",
        "       print(\"Quarta-feira \")\n",
        "      else:\n",
        "        if dia == 5:\n",
        "         print(\"Quinta-feira \")\n",
        "        else:\n",
        "          if dia == 6:\n",
        "           print(\"Sexta-feira \")\n",
        "          else:\n",
        "            if dia == 7:\n",
        "             print(\"Sábado \")\n",
        "            else:\n",
        "              print(\"Valor Inválido \")\n",
        "\n",
        "\n",
        "\n",
        "\n",
        "\n"
      ],
      "metadata": {
        "colab": {
          "base_uri": "https://localhost:8080/"
        },
        "id": "rJautx-7SRhM",
        "outputId": "4f4aeceb-4ebf-4736-f01c-2cede12f9a49"
      },
      "execution_count": null,
      "outputs": [
        {
          "output_type": "stream",
          "name": "stdout",
          "text": [
            "Digite um número correspondendo a um dia da semana 6\n",
            "Sexta-feira \n"
          ]
        }
      ]
    },
    {
      "cell_type": "code",
      "source": [
        "#32 Faça um programa que lê as duas notas parciais obtidas por um aluno numa disciplina ao longo de um semestre, e calcule a sua média. A atribuição de conceitos obedece à tabela abaixo:\n",
        "#Média de Aproveitamento  Conceito\n",
        "#Entre 9.0 e 10.0        A\n",
        "#Entre 7.5 e 9.0         B\n",
        "#Entre 6.0 e 7.5         C\n",
        "#Entre 4.0 e 6.0         D\n",
        "#Entre 4.0 e zero        E\n",
        "#O algoritmo deve mostrar na tela as notas, a média, o conceito correspondente e a mensagem “APROVADO” se o conceito for A, B ou C ou “REPROVADO” se o conceito for D ou E.\n",
        "\n",
        "nota1=float(input(\"Digite nota 1: \"))\n",
        "nota2=float(input(\"Digite nota 2: \"))\n",
        "media=(nota1+nota2)/2\n",
        "if media > 10:\n",
        "  print(\"Inválido\")\n",
        "else:\n",
        "  if media >=9:\n",
        "   conceito = \"A\"\n",
        "   print(f\" Nota 1 = {nota1}\\n Nota 2 = {nota2}\\n Média = {media}\\n Conceito = {conceito}\\n Resultado = Aprovado!\")\n",
        "  else:\n",
        "    if media >= 7.5:\n",
        "      conceito = \"B\"\n",
        "      print(f\" Nota 1 = {nota1}\\n Nota 2 = {nota2}\\n Média = {media}\\n Conceito = {conceito}\\n Resultado = Aprovado!\")\n",
        "    else:\n",
        "      if media >= 6:\n",
        "       conceito = \"C\"\n",
        "       print(f\" Nota 1 = {nota1}\\n Nota 2 = {nota2}\\n Média = {media}\\n Conceito = {conceito}\\n Resultado = Aprovado!\")\n",
        "      else:\n",
        "        if media >= 4:\n",
        "         conceito = \"D\"\n",
        "         print(f\" Nota 1 = {nota1}\\n Nota 2 = {nota2}\\n Média = {media}\\n Conceito = {conceito}\\n Resultado = Reprovado!\")\n",
        "        else:\n",
        "         conceito = \"E\"\n",
        "         print(f\" Nota 1 = {nota1}\\n Nota 2 = {nota2}\\n Média = {media}\\n Conceito = {conceito}\\n Resultado = Reprovado!\")\n"
      ],
      "metadata": {
        "id": "SYAow8rMVV02",
        "colab": {
          "base_uri": "https://localhost:8080/"
        },
        "outputId": "3df96104-a71b-4857-ce76-7af6beba6fa8"
      },
      "execution_count": null,
      "outputs": [
        {
          "output_type": "stream",
          "name": "stdout",
          "text": [
            "Digite nota 1: 7.5\n",
            "Digite nota 2: 7.5\n",
            " Nota 1 = 7.5\n",
            " Nota 2 = 7.5\n",
            " Média = 7.5\n",
            " Conceito = B\n",
            " Resultado = Aprovado!\n"
          ]
        }
      ]
    },
    {
      "cell_type": "code",
      "source": [
        "#33 Faça um Programa que peça os 3 lados de um triângulo. O programa deverá informar se os valores podem ser um triângulo. Indique, caso os lados formem um triângulo, se o mesmo é: equilátero, isósceles ou escaleno.\n",
        "\n",
        "lado = float(input(\"Digite o valor do lado 1 : \"))\n",
        "lado1 = float(input(\"Digite o valor do lado 2 : \"))\n",
        "lado2 = float(input(\"Digite o valor do lado 3 : \"))\n",
        "\n",
        "if lado + lado1 < lado2 or lado2 + lado < lado1 or lado1 + lado2 < lado:\n",
        " print(\"inválido!\")\n",
        "else:\n",
        "  if lado == lado1 == lado2:\n",
        "   print(\"É um triângulo Equilátero\")\n",
        "  else:\n",
        "    if lado == lado1 or lado1 == lado2 or lado2 ==lado:\n",
        "      print((\"É um triâmgulo Isóceles\"))\n",
        "    else:\n",
        "      print(\"É um triângulo Escaleno\")\n",
        "\n",
        "\n",
        "\n"
      ],
      "metadata": {
        "colab": {
          "base_uri": "https://localhost:8080/"
        },
        "id": "RGe3Wo6Eeq2H",
        "outputId": "2d834b56-88e8-4e55-f5c0-d833b31b90a4"
      },
      "execution_count": null,
      "outputs": [
        {
          "output_type": "stream",
          "name": "stdout",
          "text": [
            "Digite o valor do lado 1 : 1\n",
            "Digite o valor do lado 2 : 1\n",
            "Digite o valor do lado 3 : 2\n",
            "É um triâmgulo Isóceles\n"
          ]
        }
      ]
    },
    {
      "cell_type": "code",
      "source": [
        "#34 Faça um programa que calcule as raízes de uma equação do segundo grau, na forma ax2 + bx + c. O programa deverá pedir os valores de a, b e c e fazer as consistências, informando ao usuário nas seguintes situações:\n",
        "#Se o usuário informar o valor de A igual a zero, a equação não é do segundo grau e o programa não deve fazer pedir os demais valores, sendo encerrado;\n",
        "#Se o delta calculado for negativo, a equação não possui raizes reais. Informe ao usuáro e encerre o programa;\n",
        "\n",
        "a = int(input(\"Digite o valor de a : \"))\n",
        "\n",
        "if a == 0:\n",
        "  print(\"Por favor insira um valor para A!\")\n",
        "else:\n",
        "\n",
        "   b = int(input(\"Digite o valor de a : \"))\n",
        "   c = int(input(\"Digite o valor de a : \"))\n",
        "\n",
        "delta = (b**2 )- (4 * a * c)\n",
        "\n",
        "if delta < 0:\n",
        "  print(\"A equação não possui raizes reais\")\n",
        "\n",
        "\n",
        "\n"
      ],
      "metadata": {
        "colab": {
          "base_uri": "https://localhost:8080/"
        },
        "id": "tU8eVpyGjYda",
        "outputId": "1e3debdc-7b36-4a85-b9f1-23e3a9f403ee"
      },
      "execution_count": null,
      "outputs": [
        {
          "output_type": "stream",
          "name": "stdout",
          "text": [
            "Digite o valor de a : 1\n",
            "Digite o valor de a : 2\n",
            "Digite o valor de a : 5\n",
            "A equação não possui raizes reais\n"
          ]
        }
      ]
    },
    {
      "cell_type": "code",
      "source": [
        "#35 Se o delta calculado for igual a zero a equação possui apenas uma raiz real; informe-a ao usuário;\n",
        "# Se o delta for positivo, a equação possui duas raiz reais; informe-as ao usuário;\n",
        "\n",
        "a = int(input(\"Digite o valor de a : \"))\n",
        "b = int(input(\"Digite o valor de b : \"))\n",
        "c = int(input(\"Digite o valor de c : \"))\n",
        "\n",
        "delta = (b**2 )- (4 * a * c)\n",
        "raiz= (-b + delta**(1/2))/(2*a)\n",
        "raiz1 = (-b - delta**(1/2))/(2*a)\n",
        "\n",
        "if delta == 0:\n",
        "  print(\"A equação possui apenas uma raiz real!\")\n",
        "  print(raiz)\n",
        "  print(raiz1)\n",
        "else:\n",
        "  if delta > 0:\n",
        "    print(f\"O valor da primeira raiz é : {raiz}\\n O valor da segunda raiz é : {raiz1}\")\n",
        "  else:\n",
        "    print(\"Não possui Nenhuma raiz real! \")\n"
      ],
      "metadata": {
        "colab": {
          "base_uri": "https://localhost:8080/"
        },
        "id": "udjuyV8Zm86r",
        "outputId": "be2a99f3-4dc2-4655-94d9-2621b4379fe2"
      },
      "execution_count": null,
      "outputs": [
        {
          "output_type": "stream",
          "name": "stdout",
          "text": [
            "Digite o valor de a : 1\n",
            "Digite o valor de b : 2\n",
            "Digite o valor de c : 5\n",
            "Não possui Nenhuma raiz real! \n"
          ]
        }
      ]
    },
    {
      "cell_type": "code",
      "source": [
        "#36 Faça um Programa que peça um número correspondente a um determinado ano e em seguida informe se este ano é ou não bissexto.\n",
        "\n",
        "ano = int(input(\" Insira um número correspondente a um determiando ano! \"))\n",
        "\n",
        "if (ano%4==0 and ano%100!=0):\n",
        "    print(\"O ano é Bissexto!\")\n",
        "else:\n",
        "    print(\"Não é bissexto\")\n"
      ],
      "metadata": {
        "colab": {
          "base_uri": "https://localhost:8080/"
        },
        "id": "5gB-iwzAtX4E",
        "outputId": "e6532cc9-55f4-4f2c-fa35-841abd0e7e4f"
      },
      "execution_count": null,
      "outputs": [
        {
          "output_type": "stream",
          "name": "stdout",
          "text": [
            " Insira um número correspondente a um determiando ano! 2024\n",
            "O ano é Bissexto!\n"
          ]
        }
      ]
    },
    {
      "cell_type": "code",
      "source": [
        "# 37. Faça um Programa para leitura de três notas parciais de um aluno. O programa deve calcular a média alcançada por aluno e apresentar:\n",
        "#A mensagem \"Aprovado\", se a média for maior ou igual a 7, com a respectiva média alcançada;\n",
        "#A mensagem \"Reprovado\", se a média for menor do que 7, com a respectiva média alcançada;\n",
        "#A mensagem \"Aprovado com Distinção\", se a média for igual a 10.\n",
        "\n",
        "valor = float(input(\"Digite a primeira nota : \"))\n",
        "valor1 = float(input(\"Digite a segunda nota : \"))\n",
        "valor2 = float(input(\"Digite a terceira nota : \"))\n",
        "\n",
        "media = (valor+valor1+valor2)/3\n",
        "\n",
        "if media > 10:\n",
        "  print(\"Inválido\")\n",
        "else:\n",
        "  if media == 10:\n",
        "    print(\"Aprovaodo com Distinção! \")\n",
        "  else:\n",
        "    if media >= 7:\n",
        "      print(\"Aprovado! \")\n",
        "    else:\n",
        "      print(\"Reprovado!\")\n"
      ],
      "metadata": {
        "colab": {
          "base_uri": "https://localhost:8080/"
        },
        "id": "5_almv6kwSyB",
        "outputId": "82299d2c-932b-4b73-a7b4-7e22f41df8c1"
      },
      "execution_count": null,
      "outputs": [
        {
          "output_type": "stream",
          "name": "stdout",
          "text": [
            "Digite a primeira nota : 0\n",
            "Digite a segunda nota : 0\n",
            "Digite a terceira nota : 0\n",
            "Reprovado!\n"
          ]
        }
      ]
    },
    {
      "cell_type": "code",
      "source": [
        "  #38 Faça um Programa para um caixa eletrônico. O programa deverá perguntar ao usuário a valor do saque e depois informar quantas notas de cada valor serão fornecidas. As notas disponíveis serão as de 1, 5, 10, 50 e 100 reais. O valor mínimo é de 10 reais e o máximo de 600 reais. O programa não deve se preocupar com a quantidade de notas existentes na máquina.\n",
        "#Exemplo 1: Para sacar a quantia de 256 reais, o programa fornece duas notas de 100, uma nota de 50, uma nota de 5 e uma nota de 1;\n",
        "#Exemplo 2: Para sacar a quantia de 399 reais, o programa fornece três notas de 100, uma nota de 50, quatro notas de 10, uma nota de 5 e quatro notas de 1.\n",
        "\n",
        "cem = 0\n",
        "cinquenta = 0\n",
        "dez = 0\n",
        "cinco = 0\n",
        "um = 0\n",
        "\n",
        "saque = int(input(\"Digite o valor do saque! \"))\n",
        "\n",
        "if saque < 10:\n",
        "    print(\"Inválido porfavor insira um valor maior que 10\")\n",
        "else:\n",
        "   if saque > 600:\n",
        "     print(\"Inválido porfavor insira um valor maior que 10\")\n",
        "   else:\n",
        "      if cem == int(saque*100):\n",
        "       saque = saque - (cem * 100)\n",
        "      else:\n",
        "           if cinquenta == int(saque/50):\n",
        "            saque = saque % 50\n",
        "\n",
        "dez = int(saque/10)\n",
        "saque = saque % 10\n",
        "\n",
        "cinco = int(saque/5)\n",
        "saque = saque % 5\n",
        "\n",
        "um = int(saque/1)\n",
        "saque = saque % 1\n",
        "\n",
        "\n",
        "print(f\" Notas de R$ 100,00 {cem}\\n Notas de R$ 50,00 {cinquenta}\\n Notas de R$ 10,00 {dez}\\n Notas de R$ 5,00 {cinco}\\n Notas de R$ 1,00 {um}\")\n",
        "\n",
        "\n"
      ],
      "metadata": {
        "colab": {
          "base_uri": "https://localhost:8080/"
        },
        "id": "eqUeC7keyMPA",
        "outputId": "a66a30c5-62b8-43e1-c3b4-c8220d0a3d66"
      },
      "execution_count": null,
      "outputs": [
        {
          "output_type": "stream",
          "name": "stdout",
          "text": [
            "Digite o valor do saque! 24\n",
            " Notas de R$ 100,00 0\n",
            " Notas de R$ 50,00 0\n",
            " Notas de R$ 10,00 2\n",
            " Notas de R$ 5,00 0\n",
            " Notas de R$ 1,00 4\n"
          ]
        }
      ]
    },
    {
      "cell_type": "code",
      "source": [
        "#39.\tFaça um Programa que peça um número inteiro e determine se ele é par ou impar.\n",
        "\n",
        "num = int(input(\"Insira um valor Inteiro! \"))\n",
        "\n",
        "if num == 0:\n",
        "  print(\"Porfavor insira um número diferente de 0 \")\n",
        "else:\n",
        "\n",
        "    if num % 2 == 0:\n",
        "     print(\"O número é Par! \")\n",
        "    else:\n",
        "     print(\"O número é Ímpar! \")\n",
        "\n",
        "\n"
      ],
      "metadata": {
        "colab": {
          "base_uri": "https://localhost:8080/"
        },
        "id": "tSYjlbiYLgu0",
        "outputId": "f3e3afc1-456d-4b9b-d2d9-0af2bc2bef39"
      },
      "execution_count": null,
      "outputs": [
        {
          "output_type": "stream",
          "name": "stdout",
          "text": [
            "Insira um valor Inteiro! 2\n",
            "Par\n"
          ]
        }
      ]
    },
    {
      "cell_type": "code",
      "source": [
        "#40 Faça um Programa que leia 2 números e em seguida pergunte ao usuário qual operação ele deseja realizar. O resultado da operação deve ser acompanhado de uma frase que diga se o número é:\n",
        "#par ou ímpar;\n",
        "#positivo ou negativo;\n",
        "#inteiro ou decimal.\n",
        "\n",
        "numero1 = float(input(\"Digite o primeiro número! \"))\n",
        "numero2 = float(input(\"Digite o segundo número! \"))\n",
        "op = str(input(\"Digite qual operação deseja realizar (+ , - , * , / ) = \"))\n",
        "\n",
        "if op != \"+\" or op != \"-\" or op != \"*\" or op != \"/\":\n",
        "  print(\"Operação Inválida! \")\n",
        "else:\n",
        "  mult = numero1 * numero2\n",
        "  div = numero1/numero2\n",
        "  soma = numero1 + numero2\n",
        "  sub = numero1 - numero2\n",
        "\n",
        "  if op == \"+\":\n",
        "    resultado = soma\n",
        "\n",
        "  else:\n",
        "    if op == \"-\":\n",
        "     resultado = sub\n",
        "    else:\n",
        "      if op == \"*\":\n",
        "        resultado = mult\n",
        "      else:\n",
        "        if op == \"/\":\n",
        "          resultado = div\n",
        "        else:\n",
        "            resultado = 0\n",
        "\n",
        "  print(resultado)\n",
        "\n",
        "  if resultado % 2 == 0:\n",
        "    print(\"O resultado é Par! \")\n",
        "  else:\n",
        "    print(\"O resultado é Ímpar! \")\n",
        "\n",
        "  if resultado <= 0:\n",
        "    print(\"O resultado é Negativo! \")\n",
        "  else:\n",
        "    print(\"O resultado é Positivo! \")\n",
        "\n",
        "  if resultado % 1 == 0:\n",
        "    print(\"O número é inteiro! \")\n",
        "  else:\n",
        "    print(\"O número é decimal! \")\n",
        "\n",
        "\n"
      ],
      "metadata": {
        "colab": {
          "base_uri": "https://localhost:8080/"
        },
        "id": "JSOk9KWZzbxu",
        "outputId": "ec7d7a22-0075-4d6d-d6fe-407224f69eae"
      },
      "execution_count": null,
      "outputs": [
        {
          "output_type": "stream",
          "name": "stdout",
          "text": [
            "Digite o primeiro número! 1\n",
            "Digite o segundo número! 2\n",
            "Digite qual operação deseja realizar (+ , - , * , / ) = g\n",
            "Operação Inválida! \n"
          ]
        }
      ]
    },
    {
      "cell_type": "code",
      "source": [
        "# 41. Faça um programa que faça 5 perguntas para uma pessoa sobre um crime. As perguntas são:\n",
        "#\"Telefonou para a vítima?\"\n",
        "#\"Esteve no local do crime?\"\n",
        "#\"Mora perto da vítima?\"\n",
        "#\"Devia para a vítima?\"\n",
        "#\"Já trabalhou com a vítima?\"\n",
        "#O programa deve no final emitir uma classificação sobre a participação da pessoa no crime. Se a pessoa responder positivamente a 2 questões ela deve ser classificada como \"Suspeita\", entre 3 e 4 como \"Cúmplice\" e 5 como \"Assassino\". Caso contrário, ele será classificado como \"Inocente\".\n",
        "\n",
        "resultado = 0\n",
        "\n",
        "pergunta1= input(\"Telefonou para a vítima (S/N): \")\n",
        "pergunta2= input(\"Esteve no local dp crime? (S/N): \")\n",
        "pergunta3= input(\"Mora perto da vítima? (S/N): \")\n",
        "pergunta4= input(\"Devia para a vítima? (S/N): \")\n",
        "pergunta5= input(\"Já trabalhou com a vítima? (S/N): \")\n",
        "\n",
        "if pergunta1 == \"S\":\n",
        "  resultado += 1\n",
        "if pergunta2 == \"S\":\n",
        "  resultado += 1\n",
        "if pergunta3 == \"S\":\n",
        "  resultado += 1\n",
        "if pergunta4 == \"S\":\n",
        "  resultado += 1\n",
        "if pergunta5 == \"S\":\n",
        "  resultado += 1\n",
        "\n",
        "if resultado ==2:\n",
        "  print(\"Suspeita! \")\n"
      ],
      "metadata": {
        "id": "abbOISwSKSgq"
      },
      "execution_count": null,
      "outputs": []
    },
    {
      "cell_type": "code",
      "source": [
        "#42. Um posto está vendendo combustíveis com a seguinte tabela de descontos:\n",
        "#Álcool:\n",
        "#até 20 litros, desconto de 3% por litro\n",
        "#acima de 20 litros, desconto de 5% por litro\n",
        "#Gasolina:\n",
        "#até 20 litros, desconto de 4% por litro\n",
        "#acima de 20 litros, desconto de 6% por litro.\n",
        "\n",
        "numLitros = float(input(\"numero de litros: \"))\n",
        "tipoCombustivel = input(\"tipo combustível - A ou G \")\n",
        "\n",
        "limiteDescontoLitros = 20\n",
        "valorLitroAlcool = 1.9\n",
        "valorLitroGasolina = 2.5\n",
        "descontoAlcoolInferior = 0.97\n",
        "descontoAlcoolSuperior = 0.95\n",
        "\n",
        "if tipoCombustivel == \"A\" or tipoCombustivel == 'a':\n",
        "    if numLitros <= limiteDescontoLitros:\n",
        "        valorPago = (numLitros * valorLitroAlcool) * descontoAlcoolInferior\n",
        "    else:\n",
        "        valorPago = (numLitros * valorLitroAlcool) * descontoAlcoolSuperior\n",
        "else:\n",
        "    if tipoCombustivel == \"G\" or tipoCombustivel == 'g':\n",
        "        if numLitros <= limiteDescontoLitros:\n",
        "            valorPago = (numLitros * valorLitroGasolina) * 0.96\n",
        "        else:\n",
        "            valorPago = (numLitros * valorLitroGasolina) * 0.94\n",
        "    else:\n",
        "        print(\"Informação inválida\")\n",
        "        valorPago = 0\n",
        "\n",
        "print(valorPago)\n"
      ],
      "metadata": {
        "id": "JAXCh-dA4Pr8"
      },
      "execution_count": null,
      "outputs": []
    },
    {
      "cell_type": "code",
      "source": [
        "#43. Uma fruteira está vendendo frutas com a seguinte tabela de preços:\n",
        "#Até 5 Kg           Acima de 5 Kg\n",
        "#Morango         R$ 2,50 por Kg          R$ 2,20 por Kg\n",
        "#Maçã            R$ 1,80 por Kg          R$ 1,50 por Kg\n",
        "#Se o cliente comprar mais de 8 Kg em frutas ou o valor total da compra ultrapassar R$ 25,00, receberá ainda um desconto de 10% sobre este total. Escreva um algoritmo para ler a quantidade (em Kg) de morangos e a quantidade (em Kg) de maças adquiridas e escreva o valor a ser pago pelo cliente.\n",
        "\n",
        "precomorango = 2.50\n",
        "descontomorango = 2.20\n",
        "precomaca = 1.80\n",
        "descontomaca = 1.50\n",
        "\n",
        "morango = float(input(\"Digite a quantidade de Morangos em KG! \"))\n",
        "maca = float(input(\"Digite a quantidade de Maçãs em KG! \"))\n",
        "\n",
        "print(f\"quantidade de Morangos: {morango} KG \\nQuantidade de Maçãs: {maca}KG \")\n",
        "\n",
        "if morango <= 5:\n",
        " valormorango = morango * precomorango\n",
        "else:\n",
        "  valormorango = morango * descontomorango\n",
        "  if maca <= 5:\n",
        "    valormaca = maca * precomaca\n",
        "  else:\n",
        "    valormaca = maca * descontomaca\n",
        "\n",
        "valortotal = valormorango + valormaca\n",
        "\n",
        "if (morango + maca) > 8 or valortotal > 25:\n",
        "   valortotal *= 0.90 #100- 10 = 90%\n",
        "\n",
        "print(f\"Preço final: R$ {valortotal:.2f}\")\n",
        "\n",
        "\n",
        "\n",
        "\n"
      ],
      "metadata": {
        "colab": {
          "base_uri": "https://localhost:8080/"
        },
        "id": "_GApXlsH4w8b",
        "outputId": "9234e11d-6644-421e-fae4-e2b38bdd9407"
      },
      "execution_count": null,
      "outputs": [
        {
          "output_type": "stream",
          "name": "stdout",
          "text": [
            "Digite a quantidade de Morangos em KG! 5\n",
            "Digite a quantidade de Maçãs em KG! 6\n",
            "quantidade de Morangos: 5.0  KG \n",
            "Quantidade de Maçãs: 6.0 KG \n",
            "Preço final: R$ 16.11\n"
          ]
        }
      ]
    },
    {
      "cell_type": "code",
      "source": [
        "#44 Elabore um algoritmo que dada a idade de um nadador classifica-o em uma das seguintes categorias:  infantil A = 5 - 7 anos; infantil B = 8-10 anos; juvenil A = 11-13 anos; juvenil B = 14-17 anos; adulto = maiores de 18 anos.\n",
        "\n",
        "idade = int(input(\"Digite uma idade! \"))\n",
        "\n",
        "if idade <= 0:\n",
        "  print(\"Inválido! \")\n",
        "else:\n",
        "  if idade <= 7:\n",
        "    print(\"Infantil A \")\n",
        "  else:\n",
        "    if idade <= 10:\n",
        "      print(\"Infantil B \")\n",
        "    else:\n",
        "      if idade <= 13:\n",
        "        print(\"Juvenil A\")\n",
        "      else:\n",
        "        if idade <= 17:\n",
        "          print(\"Juvenil B\")\n",
        "        else:\n",
        "          print(\"Adulto \")\n"
      ],
      "metadata": {
        "colab": {
          "base_uri": "https://localhost:8080/"
        },
        "id": "bqlQAB8WLVit",
        "outputId": "6554d7bd-1b54-4b90-d66c-2533e6213593"
      },
      "execution_count": null,
      "outputs": [
        {
          "output_type": "stream",
          "name": "stdout",
          "text": [
            "Digite uma idade! 6\n",
            "Infantil A \n"
          ]
        }
      ]
    },
    {
      "cell_type": "code",
      "source": [
        "#45 Tendo como dados de entrada a altura e o sexo de uma pessoa, construa um algoritmo que calcule seu peso ideal, utilizando as seguintes fórmulas: para homens: (72.7*h) – 58 e para mulheres: (62.1*h) - 44.7 (h = altura)\n",
        "\n",
        "\n",
        "altura = float(input(\"Digite sua altura em metros: \"))\n",
        "\n",
        "\n",
        "if altura <= 0:\n",
        "    print(\"Altura Inválida!\")\n",
        "else:\n",
        "\n",
        "  sexo = input(\"Digite o sexo (masculino ou feminino): \")\n",
        "  if sexo == \"masculino\":\n",
        "        pesoidealm = (72.7 * altura) - 58\n",
        "        print(f\"O peso ideal é: {pesoidealm:.2f} kg\")\n",
        "  else:\n",
        "        if sexo == \"feminino\":\n",
        "         pesoidealf = (62.1 * altura) - 44.7\n",
        "         print(f\"O peso ideal é: {pesoidealf:.2f} kg\")\n",
        "        else:\n",
        "            print(\"Sexo Inválido! \")\n",
        "\n",
        "\n",
        "\n",
        "\n"
      ],
      "metadata": {
        "colab": {
          "base_uri": "https://localhost:8080/"
        },
        "id": "vIdkwyUrTIzd",
        "outputId": "d85b2319-912c-4c66-b4cc-6e3beecabb40"
      },
      "execution_count": null,
      "outputs": [
        {
          "output_type": "stream",
          "name": "stdout",
          "text": [
            "Digite sua altura em metros: 1.76\n",
            "Digite o sexo (masculino ou feminino): masculino\n",
            "O peso ideal é: 69.95 kg\n"
          ]
        }
      ]
    },
    {
      "cell_type": "code",
      "source": [
        "#46. Escreva um programa que calcula a média de 30 alunos e informa a situação (reprovado, aprovado ou recuperação).\n",
        "\n",
        "i = 0\n",
        "\n",
        "while i < 30:\n",
        "  nota1 = float(input(\"Digite a primeira nota! \"))\n",
        "  nota2 = float(input(\"Digite a segunda nota! \"))\n",
        "  media = (nota1 + nota2)/2\n",
        "  if media >= 0 or media <= 10:\n",
        "    i += 1\n",
        "    if media < 7:\n",
        "      print(\"Reprovado! \")\n",
        "    else:\n",
        "      print(\"Aprovado! \")\n",
        "  else:\n",
        "    print(\"Nota Inválida! \")\n",
        "\n",
        "\n",
        "\n",
        "\n"
      ],
      "metadata": {
        "id": "4zscHeUKMxk1",
        "colab": {
          "base_uri": "https://localhost:8080/"
        },
        "outputId": "f520bc02-2dc5-43c0-d12b-1f0bd8d2a56c"
      },
      "execution_count": null,
      "outputs": [
        {
          "output_type": "stream",
          "name": "stdout",
          "text": [
            "Digite a primeira nota! 5\n",
            "Digite a segunda nota! 6\n",
            "Reprovado! \n",
            "Digite a primeira nota! 6\n",
            "Digite a segunda nota! 6\n",
            "Reprovado! \n",
            "Digite a primeira nota! 7\n",
            "Digite a segunda nota! 7\n",
            "Aprovado! \n",
            "Digite a primeira nota! 7.7\n",
            "Digite a segunda nota! 6\n",
            "Reprovado! \n"
          ]
        }
      ]
    },
    {
      "cell_type": "code",
      "source": [
        "#47 Escreva um programa que leia 10 números e informe o maior e o menor número.\n",
        "\n",
        "for i in range(10):\n",
        "    valor = float(input('Digite um valor: '))\n",
        "    if i == 0:\n",
        "        maiorvalor = valor  #as 2 variaveis são criadas para armazenar o valor e ver qua lé maior e qual é o menor\n",
        "        menorvalor = valor\n",
        "    if valor > maiorvalor:\n",
        "        maiorvalor = valor\n",
        "    if valor < menorvalor:\n",
        "        menorvalor = valor\n",
        "print(f'O maior valor é {maiorvalor} e o menor valor é {menorvalor}')\n"
      ],
      "metadata": {
        "id": "EvtEZRMfNGFx",
        "colab": {
          "base_uri": "https://localhost:8080/"
        },
        "outputId": "d5d0e118-30b1-4bcb-e92c-ff9d0943ea86"
      },
      "execution_count": null,
      "outputs": [
        {
          "output_type": "stream",
          "name": "stdout",
          "text": [
            "Digite um valor: 10\n",
            "Digite um valor: 7\n",
            "Digite um valor: 2\n",
            "Digite um valor: 1\n",
            "Digite um valor: 4\n",
            "Digite um valor: 5\n",
            "Digite um valor: 6\n",
            "Digite um valor: 8\n",
            "Digite um valor: 1\n",
            "Digite um valor: 2\n",
            "O maior valor é 10.0 e o menor valor é 1.0\n"
          ]
        }
      ]
    },
    {
      "cell_type": "code",
      "source": [
        "#48 Escreva um programa que calcula o fatorial de um dado número N.\n",
        "\n",
        "\n",
        "valor = int(input(\"Digite um valor fatorial inteiro! \"))\n",
        "if valor <= 0:\n",
        "  print(\"Digite um valor diferent de 0! \")\n",
        "else:\n",
        "  fatorial = 1\n",
        "  for i in range(1, valor + 1):\n",
        "    fatorial *= i\n",
        "    print(f'O resultado do fatorial é : {fatorial}')\n",
        "\n",
        "\n"
      ],
      "metadata": {
        "id": "gD8umgJRNYjo",
        "colab": {
          "base_uri": "https://localhost:8080/"
        },
        "outputId": "e66d09a6-0a49-47c4-fa0c-f4e595e97b2e"
      },
      "execution_count": null,
      "outputs": [
        {
          "output_type": "stream",
          "name": "stdout",
          "text": [
            "Digite um valor fatorial inteiro! 1\n",
            "1\n"
          ]
        }
      ]
    },
    {
      "cell_type": "code",
      "source": [
        "#49 Faça um programa para somar os números pares positivos < 1000 e ao final escrever o resultado.\n",
        "\n",
        "soma = 0\n",
        "cont = 0\n",
        "vezes = float(input(\"Digite a quantidade de vezes: \"))\n",
        "while cont < vezes:\n",
        "    valor = float(input(\"Digite o valor: \"))\n",
        "    if valor <= 1000 and valor >= 0 and valor%2 == 0:\n",
        "        soma += valor\n",
        "        cont += 1\n",
        "    else:\n",
        "        print(\"Valor inválido (maior que 1000, negativo ou ímpar)\")\n",
        "print(soma)\n",
        "\n",
        "\n"
      ],
      "metadata": {
        "id": "LOVZcSuvNhxG"
      },
      "execution_count": null,
      "outputs": []
    },
    {
      "cell_type": "code",
      "source": [
        "#50 Faça um programa para calcular a área de N quadriláteros. Fórmula: Área = Lado * Lado.\n",
        "\n",
        "vezes = 0\n",
        "\n",
        "qntd = int(input(\"Digite a quantidade de quadrados! \"))\n",
        "\n",
        "while qntd > vezes:\n",
        "  lado = float(input(\"Digite o valor dos lados! \"))\n",
        "  area = lado**2\n",
        "  print(f\"A area é {area} m²\")\n",
        "  vezes += 1\n",
        "\n",
        "\n"
      ],
      "metadata": {
        "id": "Mys1RuUaN5j9"
      },
      "execution_count": null,
      "outputs": []
    },
    {
      "cell_type": "code",
      "source": [
        "#51 Faça um programa para calcular um valor A elevado a um expoente B. Os valores A e B deverão ser lidos. Não usar A** B e sim uma estrutura de repetição.\n",
        "\n",
        "valora = int(input(\"Digite o valor de A \"))\n",
        "resultado = valora\n",
        "valorb = int(input(\"Digite o valor de B \"))\n",
        "\n",
        "for i in range(1, valorb):\n",
        "  resultado = resultado * valora\n",
        "print(resultado)"
      ],
      "metadata": {
        "id": "hhYGx4sWOCdV",
        "colab": {
          "base_uri": "https://localhost:8080/"
        },
        "outputId": "2d1169b7-0287-45f7-e0ec-3e490c9b1142"
      },
      "execution_count": null,
      "outputs": [
        {
          "output_type": "stream",
          "name": "stdout",
          "text": [
            "Digite o valor de A 2\n",
            "Digite o valor de B 3\n",
            "8\n"
          ]
        }
      ]
    },
    {
      "cell_type": "code",
      "source": [
        "#52 Sendo H = 1 + 1/2 + 1/3 + 1/4 + ... + 1/N. Faça um programa para gerar e mostrar o número H. O número N será fornecido como entrada.\n",
        "\n",
        "h = 0\n",
        "\n",
        "valorn = int(input(\"Digite o valor de N (Número Inteiro!) \"))\n",
        "\n",
        "for i in range (1, valorn + 1):\n",
        "   h += 1/i\n",
        "   print(f\"O valor de h é {h:.3f}\")\n"
      ],
      "metadata": {
        "id": "wXuzUBgQOOpz",
        "colab": {
          "base_uri": "https://localhost:8080/"
        },
        "outputId": "fb194eb0-55b6-4fb2-edb7-297bed386c8a"
      },
      "execution_count": null,
      "outputs": [
        {
          "output_type": "stream",
          "name": "stdout",
          "text": [
            "Digite o valor de N (Número Inteiro!) 5\n",
            "O valor de h é 1.000\n",
            "O valor de h é 1.500\n",
            "O valor de h é 1.833\n",
            "O valor de h é 2.083\n",
            "O valor de h é 2.283\n"
          ]
        }
      ]
    },
    {
      "cell_type": "code",
      "source": [
        "# 53. Faça um programa para:\n",
        "#a) Ler um valor x qualquer\n",
        "#b) Calcular Y = (x+1)+(x+2)+(x+3)+(x+4)+(x+5)+…(x+100).\n",
        "\n",
        "\n",
        "soma = 0\n",
        "valorx = int(input(\"Digite o valor de X! (Numero Inteiro!)\" ))\n",
        "\n",
        "for i in range(1, 101):\n",
        "  soma += valorx + i\n",
        "\n",
        "print(f\"O valor de Y é: {soma}\")\n",
        "\n",
        "\n"
      ],
      "metadata": {
        "id": "OvGjfvFaOalb",
        "colab": {
          "base_uri": "https://localhost:8080/"
        },
        "outputId": "41a4a114-418a-47ff-8dfc-f67153b4d77d"
      },
      "execution_count": null,
      "outputs": [
        {
          "output_type": "stream",
          "name": "stdout",
          "text": [
            "Digite o valor de X! (Numero Inteiro!)10\n",
            "O valor de Y é: 6050\n"
          ]
        }
      ]
    },
    {
      "cell_type": "code",
      "source": [
        "#54 Fazer um programa que calcule e escreva a soma dos 50 primeiros termos da seguinte série:\n",
        "#   100/1 + 997/2 + 994/3 + 991/4\n",
        "\n",
        "resultado = 0\n",
        "fixo = 1000\n",
        "for i in range(1, 51):\n",
        "    resultado += fixo/i\n",
        "    fixo -= 3\n",
        "print(resultado)"
      ],
      "metadata": {
        "id": "2de90dOZOiaJ"
      },
      "execution_count": null,
      "outputs": []
    },
    {
      "cell_type": "code",
      "source": [
        "#55 Faça um programa que recebe o número real x como entrada e devolva uma aproximação do arco tangente de x (em radianos) através da série:\n",
        "# arctan(x) = x - x³/3 + x**5/5 - x**7/7 + ...\n",
        "#Considere a aproximação para 50 termos.\n",
        "\n",
        "resultado = 0\n",
        "vara = 0\n",
        "termos = int(input('Digite o número de termos: '))\n",
        "x = float(input('Digite um valor: '))\n",
        "for i in range(1, termos+1):\n",
        "    if i == 1:\n",
        "        resultado -= x\n",
        "        vara += 3\n",
        "    if i % 2 == 0:\n",
        "        resultado += (x**vara)/vara\n",
        "        vara += 2\n",
        "    else:\n",
        "        resultado -= (x**vara)/vara\n",
        "        vara += 2\n",
        "print(resultado)"
      ],
      "metadata": {
        "id": "IF2hlbFrO6Y_"
      },
      "execution_count": null,
      "outputs": []
    },
    {
      "cell_type": "code",
      "source": [
        "#56 Faça um programa que mostre os n termos da Série a seguir:\n",
        "# S = 1/1 + 2/3 + 3/5 + 4/7 + 5/9 + ... + n/m.\n",
        "#Imprima no final a soma da série.\n",
        "\n",
        "valor = int(input('Digite um número: '))\n",
        "soma = 0\n",
        "progressao = 1\n",
        "for i in range(1, valor+1):\n",
        "    soma += i/progressao\n",
        "    progressao += 2\n",
        "print(soma)"
      ],
      "metadata": {
        "id": "RFnqZTsUPTDW"
      },
      "execution_count": null,
      "outputs": []
    },
    {
      "cell_type": "code",
      "source": [
        "#57  Cada espectador de um cinema respondeu a um questionário no qual constava sua idade e a sua opinião em relação ao filme: ótimo - 3, bom - 2, regular - 1. Faça um programa que receba a idade e a opinião de 15 espectadores, calcule e imprima:\n",
        "# a) A média das idades das pessoas que responderam ótimo;\n",
        "# b) A quantidade de pessoas que responderam regular;\n",
        "# c) A porcentagem de pessoas que responderam bom entre todos os espectadores analisados.\n",
        "\n",
        "idadesoma, bom, regular, otimo = 0, 0, 0, 0\n",
        "i = 0\n",
        "while i < 15:\n",
        "    idade = int(input('Digite a idade: '))\n",
        "    opiniao = int(input('Digite a sua opinião (1 - regular, 2 - bom, 3 - ótimo): '))\n",
        "    if opiniao == 1:\n",
        "        regular += 1\n",
        "        i += 1\n",
        "    elif opiniao == 2:\n",
        "        bom += 1\n",
        "        i += 1\n",
        "    elif opiniao == 3:\n",
        "        otimo += 1\n",
        "        i += 1\n",
        "        idadesoma += idade\n",
        "    else:\n",
        "        print('Opinião inválida.')\n",
        "print(f'Média das idades das pessoas que responderam ótimo: {idadesoma/otimo:.2f} anos')\n",
        "print(f'Quantidade de pessoas que responderam regular: {regular} ou {(regular/15)*100:.2f}%')\n",
        "print(f'Quantidade de pessoas que responderam bom: {bom} ou {(bom/15)*100:.2f}%')\n",
        "print(f'Quantidade de pessoas que responderam ótimo: {otimo} ou {(otimo/15)*100:.2f}%')"
      ],
      "metadata": {
        "id": "AvZrFgFKPd20"
      },
      "execution_count": null,
      "outputs": []
    },
    {
      "cell_type": "code",
      "source": [
        "#58 Faça um programa que receba dois números inteiros e gere os números inteiros que estão no intervalo compreendido por eles.\n",
        "\n",
        "num1 = 0\n",
        "num2 = 0\n",
        "\n",
        "num1 = int(input(\"Digite o primeiro número inteiro: \"))\n",
        "num2 = int(input(\"Digite o segundo número inteiro: \"))\n",
        "\n",
        "if num1 > num2:\n",
        "    num1, num2 = num2, num1\n",
        "\n",
        "for i in range(num1 + 1, num2):\n",
        " print(i)\n",
        "\n",
        "\n",
        "\n",
        "\n"
      ],
      "metadata": {
        "id": "1LAgJ2W2Pr7j",
        "colab": {
          "base_uri": "https://localhost:8080/"
        },
        "outputId": "e41d91e7-4b75-490f-c694-7ab500984d22"
      },
      "execution_count": null,
      "outputs": [
        {
          "output_type": "stream",
          "name": "stdout",
          "text": [
            "Digite o primeiro número inteiro: 3\n",
            "Digite o segundo número inteiro: 5\n",
            "4\n"
          ]
        }
      ]
    },
    {
      "cell_type": "code",
      "source": [
        "#59  Desenvolva um gerador de tabuada, capaz de gerar a tabuada de qualquer número inteiro entre 1 a 10. O usuário deve informar de qual numero ele deseja ver a tabuada. A saída deve ser conforme o exemplo abaixo:\n",
        "#Tabuada de 5:\n",
        "#5 X 1 = 5\n",
        "#5 X 2 = 10\n",
        "#...\n",
        "#5 X 10 = 50\n",
        "\n",
        "tabuada = int(input('Digite um número Inteiro! : '))\n",
        "print(f'Tabuada de {tabuada}:')\n",
        "for i in range(1,11):\n",
        "    print(f'{tabuada} x {i} = {tabuada*i}')\n"
      ],
      "metadata": {
        "colab": {
          "base_uri": "https://localhost:8080/"
        },
        "id": "BPUX1JASPy5s",
        "outputId": "aa683252-628b-4456-b65b-a137653f7db0"
      },
      "execution_count": null,
      "outputs": [
        {
          "output_type": "stream",
          "name": "stdout",
          "text": [
            "Digite um número: 5\n",
            "Tabuada de 5:\n",
            "5 x 1 = 5\n",
            "5 x 2 = 10\n",
            "5 x 3 = 15\n",
            "5 x 4 = 20\n",
            "5 x 5 = 25\n",
            "5 x 6 = 30\n",
            "5 x 7 = 35\n",
            "5 x 8 = 40\n",
            "5 x 9 = 45\n",
            "5 x 10 = 50\n"
          ]
        }
      ]
    },
    {
      "cell_type": "code",
      "source": [
        "#60 Faça um programa que peça um número inteiro e determine se ele é ou não um número primo. Um número primo é aquele que é divisível somente por ele mesmo e por 1.\n",
        "\n",
        "divisiveis = 0\n",
        "cont = 2\n",
        "numero = int(input('Digite um número: '))\n",
        "while cont < numero:\n",
        "    teste = numero % cont\n",
        "    cont += 1\n",
        "    if teste == 0:\n",
        "        divisiveis += 1\n",
        "if divisiveis == 0:\n",
        "    print('O número é primo')\n",
        "else:\n",
        "    print('O número não é primo')\n"
      ],
      "metadata": {
        "colab": {
          "base_uri": "https://localhost:8080/"
        },
        "id": "CfssHD4sQDfx",
        "outputId": "decbc4d9-b48f-4de6-e4c4-e3c65612ce4c"
      },
      "execution_count": null,
      "outputs": [
        {
          "output_type": "stream",
          "name": "stdout",
          "text": [
            "Digite um número: 4\n",
            "O número não é primo\n"
          ]
        }
      ]
    },
    {
      "cell_type": "code",
      "source": [
        "#61 Faça um programa que peça para n pessoas a sua idade, ao final o programa devera verificar se a média de idade da turma varia entre 0 e 25, 26 e 60 e maior que 60; e então, dizer se a turma é jovem, adulta ou idosa, conforme a média calculada.\n",
        "\n",
        "soma = 0\n",
        "conttentativa = 0\n",
        "pessoas = int(input(\"Digite o número de pessoas: \"))\n",
        "while conttentativa < pessoas:\n",
        "    idade = int(input(\"Digite a idade da pessoa: \"))\n",
        "    if idade >= 0:\n",
        "        soma += idade\n",
        "        conttentativa += 1\n",
        "    else:\n",
        "        print(\"Idade inválida!\")\n",
        "media = soma / pessoas\n",
        "print(f'A média das idades é {media:.2f}')\n",
        "if media >= 0 and media <=25:\n",
        "    print(\"Turma jovem!\")\n",
        "elif media >= 26 and media <=60:\n",
        "    print(\"Turma adulta!\")\n",
        "else:\n",
        "    print(\"Turma idosa!\")"
      ],
      "metadata": {
        "id": "eQKcPq_NQRb3"
      },
      "execution_count": null,
      "outputs": []
    },
    {
      "cell_type": "code",
      "source": [
        "#62 A série de FETUCCINE é gerada da seguinte forma: os dois primeiros termos são fornecidos pelo usuário; a partir daí, os termos são gerados com a soma ou subtração dos dois termos anteriores, ou seja:\n",
        "#Ai = Ai-1 + Ai-2 para i par\n",
        "#Ai = Ai-1  - Ai-2 para i ímpar\n",
        "#Faça um programa em Python para mostrar os N primeiros termos da série de FETUCCINE, \tsabendo-se que para existir esta série serão necessários pelo menos três termos.\n",
        "\n",
        "termo1 = float(input(\"Digite o primeiro termo: \"))\n",
        "termo2 = float(input(\"Digite o segundo termo: \"))\n",
        "n = int(input(\"Digite o número de termos: \"))\n",
        "if n < 3:\n",
        "    print('O número de termos deve ser maior ou igual a 3!')\n",
        "else:\n",
        "    print(termo1, termo2)\n",
        "    for i in range(3, n+1):\n",
        "        if i%2 == 0:\n",
        "            fettucine = termo1 + termo2\n",
        "        else:\n",
        "            fettucine = termo2 - termo1\n",
        "        print(fettucine)\n",
        "        termo1,termo2 = termo2,fettucine\n",
        "\n"
      ],
      "metadata": {
        "id": "6G3EiOt1TWA0"
      },
      "execution_count": null,
      "outputs": []
    },
    {
      "cell_type": "code",
      "source": [
        "#63 Escreva um programa que imprima os N termos de uma Progressão Aritmética, conforme fórmula a seguir. O usuário deverá fornecer o valor de: n (número de termos), r (razão) e a1 (primeiro termo da série).\n",
        "#a1 = a1\n",
        "#a2 = a1 + r\n",
        "#a3 = a2 + r\n",
        "#a4 = a3 + r\n",
        "#an = a1 + + (n-1).r\n",
        "\n",
        "n = int(input(\"Digite o número de termos: \"))\n",
        "razao = int(input(\"Digite a razão: \"))\n",
        "a1 = int(input(\"Digite o primeiro termo: \"))\n",
        "print(a1)\n",
        "for i in range(1, n+1):\n",
        "    an = a1 + (i * razao)\n",
        "    print(an)\n"
      ],
      "metadata": {
        "id": "Kwpi3YoDUDqv"
      },
      "execution_count": null,
      "outputs": []
    },
    {
      "cell_type": "code",
      "source": [
        "#64 O Departamento Estadual de Meteorologia lhe contratou para desenvolver um programa que leia um conjunto indeterminado de temperaturas, e informe ao final a menor e a maior temperatura informada, bem como a média das temperaturas.\n",
        "\n",
        "soma = 0\n",
        "cont = 0\n",
        "\n",
        "i = int(input(\"Digite a quantidade de temperaturas: \"))\n",
        "while i > cont:\n",
        "    valor = float(input('Digite uma temperatura: '))\n",
        "    if cont == 0:\n",
        "        maiorvalor = valor\n",
        "        menorvalor = valor\n",
        "    if valor > maiorvalor:\n",
        "        maiorvalor = valor\n",
        "    if valor < menorvalor:\n",
        "        menorvalor = valor\n",
        "    soma += valor\n",
        "    cont += 1\n",
        "print(f'O maior valor é {maiorvalor} e o menor valor é {menorvalor} e a media é {soma/i}')\n"
      ],
      "metadata": {
        "id": "jb6TExtpUkAV"
      },
      "execution_count": null,
      "outputs": []
    },
    {
      "cell_type": "code",
      "source": [
        "#65 Faça um programa que receba o valor de uma dívida e mostre uma tabela com os seguintes dados: valor da dívida, valor dos juros, quantidade de parcelas e valor da parcela.\n",
        "#Os juros e a quantidade de parcelas seguem a tabela abaixo:\n",
        "#Quantidade de Parcelas  % de Juros sobre o valor inicial da dívida\n",
        "#         1      \t\t\t 0\n",
        "#\t3   \t\t    \t10\n",
        "#\t6       \t\t\t15\n",
        "\n",
        "#Exemplo de saída do programa:\n",
        "#Valor da Dívida  Valor dos Juros  Quantidade de Parcelas  Valor da Parcela\n",
        "#R$ 1.000,00              0                         1                                  R$  1.000,00\n",
        "#R$ 1.100,00           100                        3                                 R$    366,00\n",
        "#R$ 1.150,00           150                        6                                 R$    191,67\n",
        "\n",
        "\n",
        "divida = float(input('Digite o valor da divida: '))\n",
        "if divida > 0:\n",
        "    print(f'Valor da dívida     Valor dos juros     Quantidades de parcelas     Valor da parcela')\n",
        "    print(f'R${divida:.2f}             0                     1                      R${divida:.2f}')\n",
        "    print(f'R${(divida * 1.10):.2f}            100                    3                      R${(divida * 1.10)/3:.2f}')\n",
        "    print(f'R${(divida * 1.15):.2f}            150                    6                      R${(divida * 1.15)/6:.2f}')\n",
        "else:\n",
        "    print('Valor inválido!')\n",
        "\n",
        "\n",
        "\n"
      ],
      "metadata": {
        "id": "ma-791fQUqjV"
      },
      "execution_count": null,
      "outputs": []
    },
    {
      "cell_type": "code",
      "source": [
        "# 66. Uma grande firma deseja saber qual é o empregado mais recente e qual é o mais antigo. Desenvolver um programa para ler um número indeterminado de informações contendo o número do empregado e o número de meses de trabalho deste empregado e imprimir o mais recente e o mais antigo. Obs.: A última informação contém os dois números iguais a zero. Não existem dois empregados admitidos no mesmo mês.\n",
        "mesesmin = numeromesesmin = float('inf')\n",
        "mesesmax = numeromesesmax = 0\n",
        "\n",
        "loop = True\n",
        "\n",
        "while loop:\n",
        "    numero = int(input('Digite o número do empregado: '))\n",
        "    meses = int(input('Digite o número de meses trabalhados: '))\n",
        "    if numero and meses > 0:\n",
        "        if meses > mesesmax:\n",
        "            mesesmax = meses\n",
        "            numeromesesmax = numero\n",
        "        elif meses < mesesmin:\n",
        "            mesesmin = meses\n",
        "            numeromesesmin = numero\n",
        "    else:\n",
        "        loop = False\n",
        "\n",
        "print(f'O empregado que trabalhou mais meses foi o número {numeromesesmax} com {mesesmax} meses trabalhados.')\n",
        "print(f'O empregado que trabalhou menos meses foi o número {numeromesesmin} com {mesesmin} meses trabalhados.')\n"
      ],
      "metadata": {
        "colab": {
          "base_uri": "https://localhost:8080/"
        },
        "id": "bBU8jVhKU2Rk",
        "outputId": "8fc72730-aee8-40be-999f-924603b741f5"
      },
      "execution_count": null,
      "outputs": [
        {
          "output_type": "stream",
          "name": "stdout",
          "text": [
            "Digite o número do empregado: 12\n",
            "Digite o número de meses trabalhados: 9\n",
            "Digite o número do empregado: 7\n",
            "Digite o número de meses trabalhados: 5\n",
            "Digite o número do empregado: 0\n",
            "Digite o número de meses trabalhados: 0\n",
            "O empregado que trabalhou mais meses foi o número 12 com 9 meses trabalhados.\n",
            "O empregado que trabalhou menos meses foi o número 7 com 5 meses trabalhados.\n"
          ]
        }
      ]
    },
    {
      "cell_type": "code",
      "source": [
        "#67  A prefeitura de uma cidade fez uma pesquisa entre seus habitantes, coletando dados sobre o salário e número de filhos. A prefeitura deseja saber:\n",
        "#   a) Média do salário da população;\n",
        "#    b) Média do número de filhos;\n",
        "#    c) Maior salário;\n",
        "#   d) Percentual de pessoas com salário até R$250,00.\n",
        "# Desenvolver um programa para calcular e escrever o que foi pedido nos itens a, b, c e d. O final da leitura de dados se dará com a entrada de um salário negativo.\n",
        "\n",
        "loop = True\n",
        "maiorsalario = somasalario = contagemsalario250 = somafilhos = 0\n",
        "while loop:\n",
        "    salario = float(input('Digite o salário do habitante: '))\n",
        "    if salario >= 0:\n",
        "        filhos = int(input('Digite a quantidade de filhos do habitante: '))\n",
        "        if filhos >= 0:\n",
        "            somasalario += salario\n",
        "            somafilhos += filhos\n",
        "            if salario > 250:\n",
        "                contagemsalario250 += 1\n",
        "            if salario > maiorsalario:\n",
        "                maiorsalario = salario\n",
        "        else:\n",
        "            print('A quantidade de filhos não pode ser negativa.')\n",
        "    else:\n",
        "        loop = False\n",
        "print(f'A média dos salários da população é de R${somasalario / somafilhos:.2f}.')\n",
        "print(f'A média do número de filhos é de {somafilhos / somafilhos:.2f}.')\n",
        "print(f'O maior salário é de R${maiorsalario:.2f}.')\n",
        "print(f'{contagemsalario250} habitantes possuem salário superior a R$250,00.')"
      ],
      "metadata": {
        "id": "TRGn4pB3VS70"
      },
      "execution_count": null,
      "outputs": []
    },
    {
      "cell_type": "code",
      "source": [
        "#68 Faça um programa que leia uma quantidade não determinada de números positivos. Calcule a quantidade de números pares e ímpares, a média de valores pares e a média geral dos números lidos. O número que encerrará a leitura será zero.\n",
        "\n",
        "\n",
        "\n",
        "loop = True\n",
        "somanumeros = somanumerospares = somanumerosimpares = quantnumerospares = quantnumerosimpares = 0\n",
        "while loop:\n",
        "    numero = int(input('numero: '))\n",
        "    if numero < 0:\n",
        "        print('número inválido.')\n",
        "    elif numero != 0:\n",
        "        somanumeros += numero\n",
        "        if numero % 2 == 0:\n",
        "            quantnumerospares += 1\n",
        "            somanumerospares += numero\n",
        "        else:\n",
        "            quantnumerosimpares += 1\n",
        "            somanumerosimpares += numero\n",
        "    else:\n",
        "        loop = False\n",
        "print(f'quantidade de números pares: {quantnumerospares}')\n",
        "print(f'quantidade de números ímpares: {quantnumerosimpares}')\n",
        "print(f'media de números pares: {somanumerospares / quantnumerospares}')\n",
        "print(f'media geral: {somanumeros / (quantnumerospares + quantnumerosimpares)}')"
      ],
      "metadata": {
        "id": "k1ilq-P5VerS"
      },
      "execution_count": null,
      "outputs": []
    },
    {
      "cell_type": "code",
      "source": [
        "#69  O cardápio de uma lanchonete é o seguinte:\n",
        "\n",
        "#Especificação \t  Código \t \tPreço\n",
        "#Cachorro Quente \t     100     \tR$ 1,20\n",
        "#Bauru Simples           101     \tR$ 1,30\n",
        "#Bauru com ovo          102     \tR$ 1,50\n",
        "#Hambúrguer              103     \tR$ 1,20\n",
        "#Cheeseburguer         104     \tR$ 1,30\n",
        "#Refrigerante              105     \tR$ 1,00\n",
        "#Faça um programa que leia o código dos itens pedidos e as quantidades desejadas. Calcule e mostre o valor a ser pago por item (preço * quantidade) e o total geral do pedido. Considere que o cliente deve informar quando o pedido deve ser encerrado.\n",
        "\n",
        "\n",
        "valorPago = valorTotalConta = preco = 0\n",
        "continuar = True\n",
        "resposta = input(\"Deseja algo?\")\n",
        "\n",
        "while resposta!= \"n\":\n",
        "    codigo = input(\"Código: \")\n",
        "    qtd = int(input(\"Quantidade: \"))\n",
        "    if codigo == \"100\":\n",
        "        preco = 1.20\n",
        "    elif codigo == \"101\":\n",
        "        preco = 1.30\n",
        "    elif codigo == \"102\":\n",
        "        preco = 1.50\n",
        "    elif codigo == \"103\":\n",
        "        preco = 1.20\n",
        "    elif codigo == \"104\":\n",
        "        preco = 1.30\n",
        "    elif codigo == \"105\":\n",
        "        preco = 1\n",
        "    valorPago = qtd * preco\n",
        "    valorTotalConta += valorPago\n",
        "    print(codigo, qtd, valorPago)\n",
        "\n",
        "    resposta = input(\"Deseja algo?\")\n",
        "print(\"Valor Total = R$\", valorTotalConta)"
      ],
      "metadata": {
        "id": "jGwzsVDJVo2y",
        "colab": {
          "base_uri": "https://localhost:8080/"
        },
        "outputId": "677a7623-a7d4-4cb0-d8eb-6844ccfb4b23"
      },
      "execution_count": null,
      "outputs": [
        {
          "name": "stdout",
          "output_type": "stream",
          "text": [
            "Deseja algo?100\n"
          ]
        }
      ]
    },
    {
      "cell_type": "code",
      "source": [
        "#70 Você foi contratado para escrever um algoritmo que calcule quantos pontos fez um time num campeonato de futebol. uma vitória vale três pontos, um empate vale 1 ponto e a derrota não vale ponto. A entrada será composta por pares de números indicando o resultado de cada jogo. O primeiro número sempre corresponde ao total de gols que o time fez no jogo. A leitura dos dados será finalizada quando for fornecido um número de gols negativo.\n",
        "\n",
        "pontos = 0\n",
        "placar1 = placar2 = 1\n",
        "while placar1 >= 0 and placar2 >= 0:\n",
        "    placar1 = int(input('Digite o placar do time 1: '))\n",
        "    placar2 = int(input('Digite o placar do time 2: '))\n",
        "    if placar1 > placar2 and placar1 >= 0 and placar2 >= 0:\n",
        "        pontos += 3\n",
        "    elif placar1 == placar2 and placar1 >= 0 and placar2 >= 0:\n",
        "        pontos += 1\n",
        "    else:\n",
        "        pontos += 0\n",
        "print(f'Pontuação do time: {pontos}')"
      ],
      "metadata": {
        "id": "Eyeq4WF2V-Qp"
      },
      "execution_count": null,
      "outputs": []
    },
    {
      "cell_type": "code",
      "source": [
        "#71 Faça um programa que receba um número e verifique se ele é ou não triangular.  OBS: um número é triangular quando é resultado do produto de 3 números consecutivos. Exemplo: o número 24 é triangular, pois, 24 = 2 * 3 * 4.\n",
        "\n",
        "num = int(input('Digite um número: '))\n",
        "mult1 = 1\n",
        "mult2 = 2\n",
        "mult3 = 3\n",
        "while mult1 * mult2 * mult3 < num:\n",
        "    mult1 += 1\n",
        "    mult2 += 1\n",
        "    mult3 += 1\n",
        "if mult1 * mult2 * mult3 == num:\n",
        "    print(f'O número {num} é triangular.')\n",
        "else:\n",
        "    print(f'O número {num} não é triangular.')"
      ],
      "metadata": {
        "id": "zbyQHesuWIdA"
      },
      "execution_count": null,
      "outputs": []
    },
    {
      "cell_type": "code",
      "source": [
        "#72 Faça um programa para validar o login e a senha de um usuário. Caso o usuário informe algum valor inválido informar o erro e pedir novamente os dados. A leitura dos dados deve ser encerrada quando o usuário digitar 3 vezes um valor inválido (login ou senha). Considere o login válido como \"kezia\" e a senha como \"123\".\n",
        "\n",
        "login_valido = \"kezia\"\n",
        "senha_valida = \"123\"\n",
        "tentativas = 0\n",
        "\n",
        "while tentativas < 3:\n",
        "    login = input(\"Digite o login: \")\n",
        "    senha = input(\"Digite a senha: \")\n",
        "\n",
        "    if login == login_valido and senha == senha_valida:\n",
        "        print(\"login realizado com sucesso!\")\n",
        "        tentativas = 4\n",
        "    else:\n",
        "        print(\"login ou senha inválidos. tente novamente.\")\n",
        "        tentativas += 1\n",
        "    if tentativas == 3:\n",
        "        print(\"número máximo de tentativas excedido. tente novamente mais tarde.\")\n"
      ],
      "metadata": {
        "colab": {
          "base_uri": "https://localhost:8080/"
        },
        "id": "MRKFyxZlWRpA",
        "outputId": "c13ebc08-ce12-45c3-d4e5-63709f442d0f"
      },
      "execution_count": null,
      "outputs": [
        {
          "output_type": "stream",
          "name": "stdout",
          "text": [
            "Digite o login: asd\n",
            "Digite a senha: asd\n",
            "Login ou senha inválidos. Tente novamente.\n",
            "Digite o login: asd\n",
            "Digite a senha: asd\n",
            "Login ou senha inválidos. Tente novamente.\n",
            "Digite o login: asd\n",
            "Digite a senha: asd\n",
            "Login ou senha inválidos. Tente novamente.\n",
            "Número máximo de tentativas excedido. Tente novamente mais tarde.\n"
          ]
        }
      ]
    }
  ]
}