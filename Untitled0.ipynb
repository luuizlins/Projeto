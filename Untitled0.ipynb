{
  "nbformat": 4,
  "nbformat_minor": 0,
  "metadata": {
    "colab": {
      "provenance": [],
      "authorship_tag": "ABX9TyMYDGQFwThQiwUW8/j6Njpm",
      "include_colab_link": true
    },
    "kernelspec": {
      "name": "python3",
      "display_name": "Python 3"
    },
    "language_info": {
      "name": "python"
    }
  },
  "cells": [
    {
      "cell_type": "markdown",
      "metadata": {
        "id": "view-in-github",
        "colab_type": "text"
      },
      "source": [
        "<a href=\"https://colab.research.google.com/github/luuizlins/Projeto/blob/main/Untitled0.ipynb\" target=\"_parent\"><img src=\"https://colab.research.google.com/assets/colab-badge.svg\" alt=\"Open In Colab\"/></a>"
      ]
    },
    {
      "cell_type": "code",
      "source": [
        "#1-Faça um Programa que peça um número e então mostre a mensagem: O número informado foi [número].\n",
        "numero = float(input(\"insira um número : \"))\n",
        "print(\"o número informado foi\", numero)\n"
      ],
      "metadata": {
        "colab": {
          "base_uri": "https://localhost:8080/"
        },
        "id": "kMyg2Z0mpbyM",
        "outputId": "f7eb7320-12c2-4583-f62a-576e4a904083"
      },
      "execution_count": null,
      "outputs": [
        {
          "output_type": "stream",
          "name": "stdout",
          "text": [
            "insira um número : 5\n",
            "o número informado foi 5.0\n"
          ]
        }
      ]
    },
    {
      "cell_type": "code",
      "source": [
        "#2 Faça um Programa que peça dois números e imprima a soma.\n",
        "numero1 = float(input(\"insira o primeiro valor : \"))\n",
        "numero2 = float(input(\"insira o segundo valor : \"))\n",
        "print(numero1 + numero2)"
      ],
      "metadata": {
        "colab": {
          "base_uri": "https://localhost:8080/"
        },
        "id": "F4TsI4Y8p2FV",
        "outputId": "a4a25d1b-0e91-4dd4-959f-8bd0deb75e82"
      },
      "execution_count": null,
      "outputs": [
        {
          "output_type": "stream",
          "name": "stdout",
          "text": [
            "insira o primeiro valor : 5000\n",
            "insira o segundo valor : 10000\n",
            "15000.0\n"
          ]
        }
      ]
    },
    {
      "cell_type": "code",
      "source": [
        "#3 Faça um Programa que peça as 4 notas bimestrais e mostre a média.\n",
        "\n",
        "media1 = float(input(\"Insira o valor da primeira média : \"))\n",
        "media2 = float(input(\"Insira o valor da segunda média : \"))\n",
        "media3 = float(input(\"Insira o valor da terceira média : \"))\n",
        "media4 = float(input(\"Insira o valor da quarta  média : \"))\n",
        "\n",
        "print((media1+media2+media3+media4)/4)"
      ],
      "metadata": {
        "colab": {
          "base_uri": "https://localhost:8080/"
        },
        "id": "QTOXNcUFsFYi",
        "outputId": "c569e650-801e-4a22-a41f-dab0b07c7cdb"
      },
      "execution_count": null,
      "outputs": [
        {
          "output_type": "stream",
          "name": "stdout",
          "text": [
            "Insira o valor da primeira média : 7.4\n",
            "Insira o valor da segunda média : 2.4\n",
            "Insira o valor da terceira média : 5.0\n",
            "Insira o valor da quarta  média : 10\n",
            "6.2\n"
          ]
        }
      ]
    },
    {
      "cell_type": "code",
      "source": [
        "#4 Faça um Programa que converta metros para centímetros.\n",
        "\n",
        "valorm = float(input(\"Valor em metros \"))\n",
        "print(valorm * 100, \"cm\")"
      ],
      "metadata": {
        "colab": {
          "base_uri": "https://localhost:8080/"
        },
        "id": "oYmdCYPltzwA",
        "outputId": "c2e83c62-2177-4045-9d0e-c5eb9a3a9902"
      },
      "execution_count": null,
      "outputs": [
        {
          "output_type": "stream",
          "name": "stdout",
          "text": [
            "Valor em metros 5\n",
            "500.0 cm\n"
          ]
        }
      ]
    },
    {
      "cell_type": "code",
      "source": [
        "#5 Faça um Programa que peça o raio de um círculo, calcule e mostre sua área.\n",
        "\n",
        "raio = float(input(\"Insira o raio do círculo : \"))\n",
        "print( 3.14 * (raio**2))"
      ],
      "metadata": {
        "colab": {
          "base_uri": "https://localhost:8080/"
        },
        "id": "QEwn9bT3vNLe",
        "outputId": "b7d1382a-317a-47d2-e5bf-bf07582251e2"
      },
      "execution_count": null,
      "outputs": [
        {
          "output_type": "stream",
          "name": "stdout",
          "text": [
            "Insira o raio do círculo : 8\n",
            "200.96\n"
          ]
        }
      ]
    },
    {
      "cell_type": "code",
      "source": [
        "#6 Faça um Programa que calcule a área de um quadrado, em seguida mostre o dobro desta área para o usuário.\n",
        "valorl = float(input(\"Insira o tamanho do lado em m : \"))\n",
        "area = valorl**2\n",
        "print(f\"a area é {area}cm²\")\n",
        "print(f\"o dobro da area é {area * 2}cm²\")"
      ],
      "metadata": {
        "colab": {
          "base_uri": "https://localhost:8080/"
        },
        "id": "y-xEX8Tmwqpe",
        "outputId": "4db2e961-ff51-4c90-9217-2e4b87fdc7f1"
      },
      "execution_count": null,
      "outputs": [
        {
          "output_type": "stream",
          "name": "stdout",
          "text": [
            "Insira o tamanho do lado em m : 7\n",
            "a area é 49.0cm²\n",
            "o dobro da area é 98.0cm²\n"
          ]
        }
      ]
    },
    {
      "cell_type": "code",
      "source": [
        "#7 Faça um Programa que pergunte quanto você ganha por hora e o número de horas trabalhadas no mês. Calcule e mostre o total do seu salário no referido mês.\n",
        "ganhoh = float(input(\"Quanto você ganha por hora : \"))\n",
        "horas = float(input(\"Quantas horas você trabalha no mês : \"))\n",
        "print(f\"Salário Mensal : { ganhoh * horas}R$\")\n"
      ],
      "metadata": {
        "colab": {
          "base_uri": "https://localhost:8080/"
        },
        "id": "vwryr02izS6r",
        "outputId": "59089053-500e-43ac-fc5f-e82246f7d498"
      },
      "execution_count": null,
      "outputs": [
        {
          "output_type": "stream",
          "name": "stdout",
          "text": [
            "Quanto você ganha por hora : 5.51\n",
            "Quantas horas você trabalha no mês : 220\n",
            "Salário Mensal : 1212.2R$\n"
          ]
        }
      ]
    },
    {
      "cell_type": "code",
      "source": [
        "#8 Faça um Programa que peça a temperatura em graus Farenheit, transforme e mostre a temperatura em graus Celsius. C = (5 * (F-32) / 9).\n",
        "temperaturaf = float(input(\"Temperatura em Farenheit : \"))\n",
        "celsius = ((5 * (temperaturaf - 32 ))/9)\n",
        "print(f\"{temperaturaf}F --> {celsius:.1f}C\")"
      ],
      "metadata": {
        "colab": {
          "base_uri": "https://localhost:8080/"
        },
        "id": "CzlH17ia1bFk",
        "outputId": "c124a351-6fef-4c76-9cbe-20083ba0b022"
      },
      "execution_count": null,
      "outputs": [
        {
          "output_type": "stream",
          "name": "stdout",
          "text": [
            "Temperatura em Farenheit : 58\n",
            "58.0F --> 14.4C\n"
          ]
        }
      ]
    },
    {
      "cell_type": "code",
      "source": [
        "#9 Faça um Programa que peça a temperatura em graus Celsius, transforme e mostre em graus Farenheit. F = ((C * 9)/5) + 32\n",
        "temperaturac = float(input(\"Temperatura em Celsius : \"))\n",
        "farenheit = (((temperaturac * 9)/5) + 32)\n",
        "print(f\"{temperaturac}C --> {farenheit}F\")"
      ],
      "metadata": {
        "colab": {
          "base_uri": "https://localhost:8080/"
        },
        "id": "kndCju1c3hT_",
        "outputId": "931b1cdc-0f67-4a42-f1b0-76e92a35d8db"
      },
      "execution_count": null,
      "outputs": [
        {
          "output_type": "stream",
          "name": "stdout",
          "text": [
            "Temperatura em Celsius : -50\n",
            "-50.0C --> -58.0F\n"
          ]
        }
      ]
    },
    {
      "cell_type": "code",
      "source": [
        "#10 Elaborar um algoritmo que efetue a apresentação do valor da conversão em real (R$) de um valor lido em dólar (US$). O algoritmo deverá solicitar o valor da cotação do dólar e também a quantidade de dólares disponíveis com o usuário.\n",
        "valord = float(input(\"Valor em dólar : \"))\n",
        "cotacao = float(input(\"Cotação do dólar : \"))\n",
        "valorreal = float(valord * cotacao)\n",
        "print(f\"{valord}U$D --> {valorreal:.2f}R$\")"
      ],
      "metadata": {
        "colab": {
          "base_uri": "https://localhost:8080/"
        },
        "id": "oGctRcVW5NOG",
        "outputId": "9653fde5-4274-4ec5-b3bc-05c527f18bdc"
      },
      "execution_count": null,
      "outputs": [
        {
          "output_type": "stream",
          "name": "stdout",
          "text": [
            "Valor em dólar : 25\n",
            "Cotação do dólar : 5.51\n",
            "25.0U$D --> 137.75R$\n"
          ]
        }
      ]
    },
    {
      "cell_type": "code",
      "source": [
        "#11 Faça um algoritmo que receba um valor que foi depositado e exiba o valor com rendimento após um mês. Considere fixo o juro da poupança em 0,70% a. m.\n",
        "valor = float(input(\"Valor do deposito : \"))\n",
        "rendimento = float(valor * (0.70/100))\n",
        "print(f\"Valor final : {rendimento + valor}\")"
      ],
      "metadata": {
        "colab": {
          "base_uri": "https://localhost:8080/"
        },
        "id": "sJ8BN8bO7fa7",
        "outputId": "01a69713-b174-426a-ce05-4fff837372e5"
      },
      "execution_count": null,
      "outputs": [
        {
          "output_type": "stream",
          "name": "stdout",
          "text": [
            "Valor do deposito : 80\n",
            "Valor final : 80.56\n"
          ]
        }
      ]
    },
    {
      "cell_type": "code",
      "source": [
        "#12 A Loja Mamão com Açúcar está vendendo seus produtos em 5 (cinco) prestações sem juros. Faça um algoritmo que receba um valor de uma compra e mostre o valor das prestações.\n",
        "valor = float(input(\"Valor da compra : \"))\n",
        "prestacoes = (valor/5)\n",
        "print(f\"Prestações : {prestacoes}R$\")"
      ],
      "metadata": {
        "colab": {
          "base_uri": "https://localhost:8080/"
        },
        "id": "RGtNNAtTABv4",
        "outputId": "bef20d3b-c0e2-451a-d57e-d993becaae78"
      },
      "execution_count": null,
      "outputs": [
        {
          "output_type": "stream",
          "name": "stdout",
          "text": [
            "Valor da compra : 200\n",
            "Prestações : 40.0R$\n"
          ]
        }
      ]
    },
    {
      "cell_type": "code",
      "source": [
        "#13 Faça um algoritmo que receba o preço de custo de um produto e mostre o valor de venda. Sabe-se que o preço de custo receberá um acréscimo de acordo com um percentual informado pelo usuário.\n",
        "preco = float(input(\"Digite o preço do porduto : \"))\n",
        "acrescimo = float(input(\"Digite o valor do acréscimo : \"))\n",
        "valorvenda = (preco * acrescimo/100)\n",
        "print(f\"Valor do acréscimo : {valorvenda}R$\")\n",
        "print(f\"Valor da venda : {valorvenda + preco}R$\")\n",
        "\n"
      ],
      "metadata": {
        "colab": {
          "base_uri": "https://localhost:8080/"
        },
        "id": "orDRUdcaBLGN",
        "outputId": "d9fee5ea-8f9f-401f-cdad-78ecb4ea694f"
      },
      "execution_count": null,
      "outputs": [
        {
          "output_type": "stream",
          "name": "stdout",
          "text": [
            "Digite o preço do porduto : 76\n",
            "Digite o valor do acréscimo : 10\n",
            "Valor do acréscimo : 7.6R$\n",
            "Valor da venda : 83.6R$\n"
          ]
        }
      ]
    },
    {
      "cell_type": "code",
      "source": [
        "#14 Escrever um algoritmo para determinar o consumo médio de um automóvel sendo fornecida a distância total percorrida pelo automóvel e o total de combustível gasto.\n",
        "distancia = float(input(\"Distância percorrida em km : \"))\n",
        "combustivel = float(input(\"Combustível gasto em litros : \"))\n",
        "print(f\"{(distancia/combustivel):.2f}km/l\")"
      ],
      "metadata": {
        "colab": {
          "base_uri": "https://localhost:8080/"
        },
        "id": "qDXW0llQdrGM",
        "outputId": "206f64f6-81ab-4650-ff59-a1c5301b7115"
      },
      "execution_count": null,
      "outputs": [
        {
          "output_type": "stream",
          "name": "stdout",
          "text": [
            "Distância percorrida em km : 77\n",
            "Combustível gasto em litros : 7\n",
            "11.00km/l\n"
          ]
        }
      ]
    },
    {
      "cell_type": "code",
      "source": [
        "#15 Escreva um programa que leia três números inteiros e positivos (A, B, C) e calcule a seguinte expressão:, onde  D = R + S/2   R(A+B)²   S=(B+C)²\n",
        "A = int(input(\"Digite um número inteiro : \"))\n",
        "B = int(input(\"Digite um número inteiro : \"))\n",
        "C = int(input(\"Digite um número inteiro : \"))\n",
        "\n",
        "S = (B + C)**2\n",
        "R = (A + B)**2\n",
        "D = ((R + S)/2)\n",
        "print(f\"O resultado do cálculo é  {D}\")\n"
      ],
      "metadata": {
        "colab": {
          "base_uri": "https://localhost:8080/"
        },
        "id": "cb23IEKRi5_g",
        "outputId": "b2b66eaa-9dfa-45bc-8470-d9fac1412ac7"
      },
      "execution_count": null,
      "outputs": [
        {
          "output_type": "stream",
          "name": "stdout",
          "text": [
            "Digite um número inteiro : 4\n",
            "Digite um número inteiro : 3\n",
            "Digite um número inteiro : 1\n",
            "32.5\n"
          ]
        }
      ]
    },
    {
      "cell_type": "code",
      "source": [
        "#16 Escrever um algoritmo que leia o nome de um vendedor, o seu salário fixo e o total de vendas efetuadas por ele no mês (em dinheiro). Sabendo que este vendedor ganha 15% de comissão sobre suas vendas efetuadas, informar o seu nome, o salário fixo e salário no final do mês. A REVISAR\n",
        "nome = (input(\"Digite o nome : \"))\n",
        "salariofixo = float(input(\"Digite o valor do sálario :\"))\n",
        "vendas = int(input(\"Total de vendas : \"))\n",
        "comissao = vendas * 0.15\n",
        "print(f\"Vendedor  {nome} Sálario Fixo {salariofixo}R$ Sálario Final {salariofixo+comissao}R$\")"
      ],
      "metadata": {
        "colab": {
          "base_uri": "https://localhost:8080/"
        },
        "id": "WM6BjP4An68B",
        "outputId": "e9a2e467-1952-4cd6-ef04-5392d3377d97"
      },
      "execution_count": null,
      "outputs": [
        {
          "output_type": "stream",
          "name": "stdout",
          "text": [
            "Digite o nome : luuiz\n",
            "Digite o valor do sálario :1350\n",
            "Total de vendas : 80\n",
            "Vendedor  luuiz Sálario Fixo 1350.0R$ Sálario Final 1362.0R$\n"
          ]
        }
      ]
    },
    {
      "cell_type": "code",
      "source": [
        "\n",
        "#17 Faça um Programa que peça 2 números inteiros e um número real. Calcule e mostre:\n",
        "#• o produto do dobro do primeiro com metade do segundo .\n",
        "#• a soma do triplo do primeiro com o terceiro.\n",
        "#• o terceiro elevado ao cubo.\n",
        "\n",
        "numero1 = int(input(\"Digite um número inteiro : \"))\n",
        "numero2 = int(input(\"Digite um número inteiro : \"))\n",
        "numero3 = float(input(\"Digite um número real : \"))\n",
        "\n",
        "print((numero1*2) * (numero2/2))\n",
        "print((numero1*3) + numero3)\n",
        "print(f\"{numero3**3:.2f}\")"
      ],
      "metadata": {
        "colab": {
          "base_uri": "https://localhost:8080/"
        },
        "id": "WOYdPfIK41QR",
        "outputId": "8b756f82-ccde-4870-e81e-e71f9ef0252e"
      },
      "execution_count": null,
      "outputs": [
        {
          "output_type": "stream",
          "name": "stdout",
          "text": [
            "Digite um número inteiro : 4\n",
            "Digite um número inteiro : 3\n",
            "Digite um número real : 6.7\n",
            "12.0\n",
            "18.7\n",
            "300.76\n"
          ]
        }
      ]
    },
    {
      "cell_type": "code",
      "source": [
        "#18 Tendo como dados de entrada a altura de uma pessoa, construa um algoritmo que calcule seu peso ideal, usando a seguinte fórmula: (72.7*altura) – 58.\n",
        "altura = float(input(\"Digite a sua altura : \"))\n",
        "pesoideal = ((72.7*altura)-58 )\n",
        "print(f\"Peso ideal : {pesoideal:.2f}\")"
      ],
      "metadata": {
        "colab": {
          "base_uri": "https://localhost:8080/"
        },
        "id": "uQzlC76DCkU4",
        "outputId": "221c9163-7bbe-437f-e22b-db5c5debd21d"
      },
      "execution_count": null,
      "outputs": [
        {
          "output_type": "stream",
          "name": "stdout",
          "text": [
            "Digite a sua altura : 1.74\n",
            "Peso ideal : 68.50\n"
          ]
        }
      ]
    },
    {
      "cell_type": "code",
      "source": [
        "#19 Faça um programa que peça o tamanho de um arquivo para download (em MB) e a velocidade de um link de Internet (em MBps), calcule e informe o tempo aproximado de download do arquivo usando este link (em minutos).\n",
        "arquivo = float(input(\"Tamanho do arquivo em mb : \"))\n",
        "velocidade = float(input(\"Velocidade da Internet em MBps : \"))\n",
        "arquivoembps = arquivo*8\n",
        "tempo = (arquivo/(velocidade *60))\n",
        "print(f\"Tempo aproximado de dowload : {tempo:.3f} minutos\")\n",
        "\n"
      ],
      "metadata": {
        "colab": {
          "base_uri": "https://localhost:8080/"
        },
        "id": "_YhQh1nZFYjO",
        "outputId": "c275806e-165e-422d-ac26-204814d19317"
      },
      "execution_count": 2,
      "outputs": [
        {
          "output_type": "stream",
          "name": "stdout",
          "text": [
            "Tamanho do arquivo em mb : 10\n",
            "Velocidade da Internet em MBps : 100\n",
            "Tempo aproximado de dowload : 0.002 minutos\n"
          ]
        }
      ]
    },
    {
      "cell_type": "code",
      "source": [
        "#20. Ler dois valores para as variáveis A e B, e efetuar as trocas dos valores de forma que a variável A passe a possuir o valor da variável B e a variável B passe a possuir o valor da variável A. Apresentar os valores trocados.\n",
        "valora = float(input(\"Digite o valor para A : \"))\n",
        "valorb = float(input(\"Digite o valor para B : \"))\n",
        "\n",
        "aux = valora\n",
        "valora = valorb\n",
        "valorb = aux\n",
        "\n",
        "print(f\"O valor de a : {valora} , o valor de B : {valorb}\")"
      ],
      "metadata": {
        "colab": {
          "base_uri": "https://localhost:8080/"
        },
        "id": "fDCBhJ6iNZNG",
        "outputId": "d27dcae1-3560-4949-efa1-f472cf886280"
      },
      "execution_count": null,
      "outputs": [
        {
          "output_type": "stream",
          "name": "stdout",
          "text": [
            "Digite o valor para A : 1\n",
            "Digite o valor para B : 2\n",
            "O valor de a : 2.0 , o valor de B : 1.0\n"
          ]
        }
      ]
    },
    {
      "cell_type": "code",
      "source": [
        "#21 Faça um Programa que pergunte quanto você ganha por hora e o número de horas trabalhadas no mês. Calcule e mostre o total do seu salário no referido mês, sabendo-se que são descontados 11% para o Imposto de Renda, 8% para o INSS e 5% para o sindicato, faça um programa que nos dê:\n",
        "#a) salário bruto.\n",
        "#b) quanto pagou ao INSS.\n",
        "#c) quanto pagou ao sindicato.\n",
        "#d) o salário líquido.\n",
        "#e) calcule os descontos e o salário líquido, conforme a tabela abaixo:\n",
        "#Salário Bruto : R$\n",
        "#IR (11%) : R$\n",
        "#INSS (8%) : R$\n",
        "#Sindicato ( 5%) : R$\n",
        "#Salário Liquido : R$\n",
        "#Obs.: Salário Bruto - Descontos = Salário Líquido.\n",
        "\n",
        "ganhahora = float(input(\"Digite aqui quanto ganha por hora :\"))\n",
        "numerohora = float(input(\"Digite aqui quantas horas trabalha ao mês : \"))\n",
        "\n",
        "salariobruto = (ganhahora * numerohora)\n",
        "\n",
        "impostorenda = (salariobruto*11/100)\n",
        "inss = (salariobruto*8/100)\n",
        "sindicato = (salariobruto*5/100)\n",
        "\n",
        "descontos = (impostorenda+inss+sindicato)\n",
        "salarioliquido = (salariobruto-descontos)\n",
        "\n",
        "\n",
        "print(f\"Salário Bruto :{salariobruto}R$\\nImposto de Renda : {impostorenda:.2f}R$\\nINSS : {inss:.2f}R$\\nSindicato : {sindicato}R$\\nSalário Líquido {salarioliquido:.2f}R$\")"
      ],
      "metadata": {
        "colab": {
          "base_uri": "https://localhost:8080/"
        },
        "id": "fSnIU-BhTANi",
        "outputId": "59e0cf0c-fabd-4d68-9438-6b952fd77c79"
      },
      "execution_count": 4,
      "outputs": [
        {
          "output_type": "stream",
          "name": "stdout",
          "text": [
            "Digite aqui quanto ganha por hora :6\n",
            "Digite aqui quantas horas trabalha ao mês : 220\n",
            "Salário Bruto :1320.0R$\n",
            "Imposto de Renda 145.20R$\n",
            "INSS : 105.60R$\n",
            "Sindicato : 66.0R$\n",
            "Salário Líquido 1003.20R$\n"
          ]
        }
      ]
    },
    {
      "cell_type": "markdown",
      "source": [],
      "metadata": {
        "id": "ytVNVrWLNX4f"
      }
    }
  ]
}