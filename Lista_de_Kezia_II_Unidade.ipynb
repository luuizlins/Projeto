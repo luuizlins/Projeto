{
  "nbformat": 4,
  "nbformat_minor": 0,
  "metadata": {
    "colab": {
      "provenance": [],
      "authorship_tag": "ABX9TyNOHHilyNRBXdW3Z6+8HY5+",
      "include_colab_link": true
    },
    "kernelspec": {
      "name": "python3",
      "display_name": "Python 3"
    },
    "language_info": {
      "name": "python"
    }
  },
  "cells": [
    {
      "cell_type": "markdown",
      "metadata": {
        "id": "view-in-github",
        "colab_type": "text"
      },
      "source": [
        "<a href=\"https://colab.research.google.com/github/luuizlins/Projeto/blob/main/Lista_de_Kezia_II_Unidade.ipynb\" target=\"_parent\"><img src=\"https://colab.research.google.com/assets/colab-badge.svg\" alt=\"Open In Colab\"/></a>"
      ]
    },
    {
      "cell_type": "code",
      "execution_count": null,
      "metadata": {
        "id": "7QaABGqN_vtk"
      },
      "outputs": [],
      "source": [
        "  #1 Faça um Programa que leia 5 números inteiros, armazene-os em uma lista.\n",
        "lista = []\n",
        "\n",
        "for i in range(5):\n",
        "  valores = int(input(\"Digite os 5 valores para colocar na listas! \"))\n",
        "  lista[i:i] = [valores]\n",
        "\n",
        "print(lista)\n",
        "\n"
      ]
    },
    {
      "cell_type": "code",
      "source": [
        "#2 Faça um Programa que leia 10 números reais e mostre-os na ordem inversa.\n",
        "\n",
        "lista = []\n",
        "for i in range(10):\n",
        "  valores = int(input(\"Digite os 10 números reais!  \"))\n",
        "  lista[i:i] = [valores]\n",
        "lista.reverse()\n",
        "\n",
        "\n",
        "print(lista)"
      ],
      "metadata": {
        "id": "eZ7wqKAdGC59",
        "colab": {
          "base_uri": "https://localhost:8080/"
        },
        "outputId": "b1a23728-089e-483a-c6ab-820be1407c50"
      },
      "execution_count": null,
      "outputs": [
        {
          "output_type": "stream",
          "name": "stdout",
          "text": [
            "Digite os 10 números reais!  7\n",
            "Digite os 10 números reais!  8\n",
            "Digite os 10 números reais!  9\n",
            "Digite os 10 números reais!  1\n",
            "Digite os 10 números reais!  2\n",
            "Digite os 10 números reais!  3\n",
            "Digite os 10 números reais!  4\n",
            "Digite os 10 números reais!  5\n",
            "Digite os 10 números reais!  6\n",
            "Digite os 10 números reais!  7\n",
            "[7, 6, 5, 4, 3, 2, 1, 9, 8, 7]\n"
          ]
        }
      ]
    },
    {
      "cell_type": "code",
      "source": [
        "#3 Faça um Programa que leia 40 notas, mostre as notas e a média na tela.\n",
        "\n",
        "lista = []\n",
        "media = 0\n",
        "\n",
        "for i in range(40):\n",
        "    print(\"Notas para o aluno!\", str(i+1))\n",
        "    somanota= 0\n",
        "\n",
        "    for j in range(40):\n",
        "        nota = float(input(f\"Nota {j + 1}: \"))\n",
        "        while nota < 0 or nota > 10:\n",
        "             print(\"A nota deve estar entre 0 e 10. Tente novamente.\")\n",
        "             nota = float(input(f\"Nota {j + 1}: \"))\n",
        "        somanota += nota\n",
        "\n",
        "media = somanota/4\n",
        "lista.append(media)\n",
        "\n",
        "print(f\"Media Final {media}\")\n"
      ],
      "metadata": {
        "id": "MHqQLzjQItJd"
      },
      "execution_count": null,
      "outputs": []
    },
    {
      "cell_type": "code",
      "source": [
        "#4 Faça um Programa que leia 20 números inteiros e armazene-os numa lista. Armazene os números pares na lista PAR e os números IMPARES na lista impar. Imprima as três listas.\n",
        "\n",
        "lista = []\n",
        "listap = []\n",
        "listai = []\n",
        "\n",
        "for i in range(4):\n",
        " numeros  = int(input(\"Digite os 20 números inteiros! \"))\n",
        " lista.append(numeros)\n",
        "\n",
        " if numeros % 2 == 0:\n",
        "   listap.append(numeros)\n",
        " else:\n",
        "   listai.append(numeros)\n",
        "\n",
        "print(f\"Lista com Todos os Valores: {lista}\")\n",
        "print(f\"Lista com Valores Pares: {listap}\")\n",
        "print(f\"Lista com Valores Ímpares: {listai}\")\n",
        "\n"
      ],
      "metadata": {
        "id": "Ttint-VGUoki"
      },
      "execution_count": null,
      "outputs": []
    },
    {
      "cell_type": "code",
      "source": [
        "#5 Faça um Programa que peça as quatro notas de 10 alunos, calcule e armazene numa lista a média de cada aluno, imprima o número de alunos com média maior ou igual a 7.0.\n",
        "\n",
        "lista = []\n",
        "mediasete = 0\n",
        "\n",
        "for i in range(4):\n",
        "  print(\"Notas para o aluno!\", str(i+1))\n",
        "  somanota= 0\n",
        "  for j in range(4):\n",
        "     nota = float(input(\"Nota: \"))\n",
        "     while nota < 0 or nota > 10:\n",
        "             print(\"A nota deve estar entre 0 e 10. Tente novamente.\")\n",
        "             nota = float(input(f\"Nota {j + 1}: \"))\n",
        "     somanota += nota\n",
        "  media = somanota/4\n",
        "  lista.append(media)\n",
        "  if media >= 7:\n",
        "    mediasete += 1\n",
        "print(f\"Média de cada Aluno! {lista}\")\n",
        "print(f\"Quantidade de Alunos Na Média! {mediasete}\")\n"
      ],
      "metadata": {
        "id": "xSWo3MUnaHaQ"
      },
      "execution_count": null,
      "outputs": []
    },
    {
      "cell_type": "code",
      "source": [
        "#6. Faça um Programa que leia e armazene 50 números inteiros, mostre a soma, a multiplicação e os números.\n",
        "\n",
        "lista = []\n",
        "soma = 0\n",
        "multi = 1\n",
        "\n",
        "for i in range(5):\n",
        "    numeros = -1\n",
        "    while numeros < 0:\n",
        "        numeros = int(input(\"Digite um número inteiro não negativo: \"))\n",
        "        if numeros < 0:\n",
        "            print(\"O número deve ser não negativo. Tente novamente.\")\n",
        "\n",
        "    lista.append(numeros)\n",
        "    soma += numeros\n",
        "    multi *= numeros\n",
        "\n",
        "print(f\"Números inseridos: {lista}\")\n",
        "print(f\"Soma dos números: {soma}\")\n",
        "print(f\"Multiplicação dos números: {multi}\")"
      ],
      "metadata": {
        "id": "NZ6KFBFLfjoD"
      },
      "execution_count": null,
      "outputs": []
    },
    {
      "cell_type": "code",
      "source": [
        "#7. Faça um Programa que peça a idade e a altura de 10 pessoas, armazene cada informação na sua respectiva lista. Imprima a idade da pessoa que possui maior altura.\n",
        "\n",
        "idadelista = []\n",
        "alturalista = []\n",
        "\n",
        "for i in range(3):\n",
        "    idade = int(input(\"Digite a idade! \"))\n",
        "    altura = float(input(\"Digite a altura! \"))\n",
        "    if idade <= 0 and altura <= 0:\n",
        "      print('Valor inválido')\n",
        "    else:\n",
        "      idadelista.append(idade)\n",
        "      alturalista.append(altura)\n",
        "if alturalista:\n",
        "      maioraltura = max(alturalista)\n",
        "      indicemaioraltura = alturalista.index(maioraltura)\n",
        "      print(f\"A idade da pessoa com a maior altura {maioraltura} metros  é {idadelista[indicemaioraltura]} anos.\")\n",
        "else:\n",
        "    print(\"Nenhuma entrada válida foi registrada.\")"
      ],
      "metadata": {
        "colab": {
          "base_uri": "https://localhost:8080/"
        },
        "id": "1cEWwM62jxZo",
        "outputId": "1d964a00-c7d0-4c57-a1d2-340c3b0c1148"
      },
      "execution_count": 16,
      "outputs": [
        {
          "output_type": "stream",
          "name": "stdout",
          "text": [
            "Digite a idade! 12\n",
            "Digite a altura! 1.76\n",
            "Digite a idade! 15\n",
            "Digite a altura! 1.34\n",
            "Digite a idade! 17\n",
            "Digite a altura! 1.23\n",
            "A idade da pessoa com a maior altura 1.76 metros  é 12 anos.\n"
          ]
        }
      ]
    },
    {
      "cell_type": "code",
      "source": [
        "#8 Faça um Programa que leia uma lista A com 10 números inteiros, calcule e mostre a soma dos quadrados dos elementos do vetor.\n",
        "\n",
        "lista = []\n",
        "\n",
        "for i in range(4):\n",
        "  numeros = int(input(\"Digite 10 números inteiros! \"))\n",
        "  lista.append(numeros)\n",
        "somaquadrados = sum(i ** 2 for i in lista)\n",
        "print(f\"A soma dos quadrados dos elementos da lista inserida {lista} é  {somaquadrados}\")\n",
        "\n"
      ],
      "metadata": {
        "colab": {
          "base_uri": "https://localhost:8080/"
        },
        "id": "hTj7xpKBxKqR",
        "outputId": "eb910553-e6eb-4d16-c654-58abc61fa6ed"
      },
      "execution_count": 17,
      "outputs": [
        {
          "output_type": "stream",
          "name": "stdout",
          "text": [
            "Digite 10 números inteiros! -1\n",
            "Digite 10 números inteiros! 2\n",
            "Digite 10 números inteiros! 3\n",
            "Digite 10 números inteiros! 4\n",
            "A soma dos quadrados dos elementos da lista inserida [-1, 2, 3, 4] é  30\n"
          ]
        }
      ]
    },
    {
      "cell_type": "code",
      "source": [
        "#9 Faça um Programa que leia duas listas com 10 elementos cada. Gere uma terceira lista de 20 elementos, cujos valores deverão ser compostos pelos elementos intercalados das duas outras listas.\n",
        "\n",
        "lista1 = []\n",
        "lista2 = []\n",
        "lista3= []\n",
        "\n",
        "print(\"Digite 10 números inteiros para a primeira lista! \")\n",
        "for i in range(4):\n",
        "  numeros1 = int(input(\"...\"))\n",
        "  lista1.append(numeros1)\n",
        "\n",
        "print(\"Digite 10 números inteiros para a segunda lista! \")\n",
        "for i in range(4):\n",
        "  numeros2 = int(input(\"...\"))\n",
        "  lista2.append(numeros2)\n",
        "\n",
        "for i in range(4):\n",
        "  lista3.append(lista1[i])\n",
        "  lista3.append(lista2[i])\n",
        "\n",
        "\n",
        "print(f\"Primeira Lista {lista3}\")\n"
      ],
      "metadata": {
        "id": "2RfhVg6K8rLU",
        "colab": {
          "base_uri": "https://localhost:8080/"
        },
        "outputId": "67afae61-2ee4-49c6-cd4a-bff3aecab6a2"
      },
      "execution_count": null,
      "outputs": [
        {
          "output_type": "stream",
          "name": "stdout",
          "text": [
            "Digite 10 números inteiros para a primeira lista! \n",
            "...3\n",
            "...2\n",
            "...4\n",
            "...5\n",
            "Digite 10 números inteiros para a segunda lista! \n",
            "...1\n",
            "...2\n",
            "...3\n",
            "...4\n",
            "Primeira Lista [3, 1, 2, 2, 4, 3, 5, 4]\n"
          ]
        }
      ]
    },
    {
      "cell_type": "code",
      "source": [
        "#10 Altere o programa anterior, intercalando ‘. ?????????????????????\n",
        "\n",
        "lista1 = []\n",
        "print(\"Digite 10 elementos para a primeira lista:\")\n",
        "for i in range(10):\n",
        "    elemento = input(f\"Elemento {i + 1}: \")\n",
        "    lista1.append(elemento)\n",
        "\n",
        "lista2 = []\n",
        "print(\"Digite 10 elementos para a segunda lista:\")\n",
        "for i in range(10):\n",
        "    elemento = input(f\"Elemento {i + 1}: \")\n",
        "    lista2.append(elemento)\n",
        "\n",
        "lista3 = []\n",
        "for i in range(10):\n",
        "    lista3.append(lista1[i])\n",
        "    lista3.append('.')\n",
        "    lista3.append(lista2[i])\n",
        "\n",
        "print(f\"A terceira lista intercalada com pontos é: {lista3}\")"
      ],
      "metadata": {
        "id": "PQ1kEp4q9Ajb"
      },
      "execution_count": null,
      "outputs": []
    },
    {
      "cell_type": "code",
      "source": [
        "#11 Foram anotadas as idades e alturas de 30 alunos. Faça um Programa que determine quantos alunos com mais de 13 anos possuem altura inferior à média de altura desses alunos.\n",
        "\n",
        "listaidades = []\n",
        "listaaltura = []\n",
        "\n",
        "for i in range(5):\n",
        " idade = int(input(\"Digite as idade! \"))\n",
        " altura = float(input(\"Digite as alturas! \"))\n",
        " listaidades.append(idade)\n",
        " listaaltura.append(altura)\n",
        "\n",
        "media = sum(listaaltura)/len(listaaltura)\n",
        "cont = 0\n",
        "for i in range(len(listaidades)):\n",
        "    if listaidades[i] > 13 and listaaltura[i] < media:\n",
        "       cont += 1\n",
        "\n",
        "print(f\"Número de alunos com mais de 13 anos e altura inferior à média: {cont}\")\n",
        "\n"
      ],
      "metadata": {
        "id": "dZcPlYeX9Bhr"
      },
      "execution_count": null,
      "outputs": []
    },
    {
      "cell_type": "code",
      "source": [
        "#12 Escreva um algoritmo que permita a leitura dos nomes de 10 pessoas  e armazene os nomes lidos em uma lista. Após isto, o algoritmo deve permitir a leitura de mais 1 nome qualquer de pessoa e depois escrever a mensagem ACHEI, se o nome estiver entre os 10 nomes lidos anteriormente (guardados na lista), ou NÃO ACHEI caso contrário.\n",
        "\n",
        "nomes = []\n",
        "\n",
        "for i in range(4):\n",
        " nome = str(input(\"Digite os nomes! \"))\n",
        " nomes.append(nome)\n",
        "\n",
        "nome2 = str(input(\"Digite o nome que deseja verificar! \"))\n",
        "if nome2 in nomes:\n",
        "  print(\"ACHEI\")\n",
        "else:\n",
        "  print(\"NÃO ACHEI\")\n",
        "\n",
        "\n",
        "print(nomes)"
      ],
      "metadata": {
        "id": "gtIJvUV-VPyG",
        "colab": {
          "base_uri": "https://localhost:8080/"
        },
        "outputId": "fbb12421-1dae-4fd0-98c6-a1330f609314"
      },
      "execution_count": 18,
      "outputs": [
        {
          "output_type": "stream",
          "name": "stdout",
          "text": [
            "Digite os nomes! luz\n",
            "Digite os nomes! carlos\n",
            "Digite os nomes! neto\n",
            "Digite os nomes! sousa\n",
            "Digite o nome que deseja verificar! ahri\n",
            "NÃO ACHEI\n",
            "['luz', 'carlos', 'neto', 'sousa']\n"
          ]
        }
      ]
    },
    {
      "cell_type": "code",
      "source": [
        "#13 Faça um programa que receba a temperatura média de cada mês do ano e armazene-as em uma lista. Após isto, calcule a média anual das temperaturas e mostre todas as temperaturas acima da média anual, e em que mês elas ocorreram (mostrar o mês por extenso: 1 – Janeiro, 2 – Fevereiro, . . . ).\n",
        "\n",
        "meses = ['Janeiro','Fevereiro','Março','Abril','Maio','Junho','Julho','Agosto','Setembro', 'Outubro','Novembro','Dezembro']\n",
        "mesesmaioresqueamedia = []\n",
        "temperaturamediameses = []\n",
        "mediaanual = 0\n",
        "for i in range(12):\n",
        "    temperaturames = float(input(\"Digite a temperatura média! 6\"))\n",
        "    temperaturamediameses.append(temperaturames)\n",
        "mediaanual = sum(temperaturamediameses)/len(temperaturamediameses)\n",
        "print(f'A média anual é: {mediaanual}')\n",
        "for i in range(len(meses)):\n",
        "    if temperaturamediameses[i] > mediaanual:\n",
        "        mesesmaioresqueamedia.append(meses[i])\n",
        "print('Meses maiores que a média:')\n",
        "for mes in mesesmaioresqueamedia:\n",
        "    print(f'{meses.index(mes)} -> {mes}')\n",
        ""
      ],
      "metadata": {
        "id": "PD43kwr7XuuG"
      },
      "execution_count": null,
      "outputs": []
    },
    {
      "cell_type": "code",
      "source": [
        "#    14. Faça um programa que leia um número indeterminado de valores, correspondentes a notas, encerrando a entrada de dados quando for informado um valor igual a -1 (que não deve ser armazenado). Após esta entrada de dados, faça:\n",
        "#    a. Mostre a quantidade de valores que foram lidos;\n",
        "#    b. Exiba todos os valores na ordem em que foram informados\n",
        "#    c. Exiba todos os valores na ordem inversa à que foram informados\n",
        "#    d. Calcule e mostre a soma dos valores;\n",
        "#    e. Calcule e mostre a média dos valores;\n",
        "#    f. Calcule e mostre a quantidade de valores acima da média calculada;\n",
        "#    g. Calcule e mostre a quantidade de valores abaixo de sete;\n",
        "#    h. Encerre o programa com uma mensagem.\n",
        "\n",
        "lista = []\n",
        "\n",
        "valores = int(input(\"Digite os valores! \"))\n",
        "while valores != -1:\n",
        "  lista.append(valores)\n",
        "  valores = int(input(\"Digite os valores! \"))\n",
        "\n",
        "print(f\"Quantidade de elementos! {len(lista)}\" )\n",
        "\n",
        "print(lista)\n",
        "\n",
        "lista.reverse()\n",
        "print(lista)\n",
        "\n",
        "soma = sum(lista)\n",
        "print(f\"A soma dos elementos é : {soma}\")\n",
        "\n",
        "media = sum(lista)/len(lista)\n",
        "print(f\"A média dos elementos é : {media}\")\n",
        "\n",
        "media = sum(lista)/len(lista)\n",
        "cont = 0\n",
        "for i in range(len(lista)):\n",
        "    if lista[i] > media:\n",
        "     cont += 1\n",
        "print(f\"Quantidade de valores acíma da media : {cont}\")\n",
        "\n",
        "cont = 0\n",
        "for i in range(len(lista)):\n",
        "  if lista[i] < 7:\n",
        "    cont += 1\n",
        "print(f\"Quantidade de valores abaixo de 7 : {cont}\")\n",
        "\n",
        "print(\"Fim do Programa\")\n",
        "\n",
        "\n"
      ],
      "metadata": {
        "colab": {
          "base_uri": "https://localhost:8080/"
        },
        "id": "-Igj2xclcZ85",
        "outputId": "b617afc7-eaaa-4276-db59-9f3ea3b19d43"
      },
      "execution_count": null,
      "outputs": [
        {
          "output_type": "stream",
          "name": "stdout",
          "text": [
            "Digite os valores! 10\n",
            "Digite os valores! 8\n",
            "Digite os valores! 9\n",
            "Digite os valores! 7\n",
            "Digite os valores! -1\n",
            "Quantidade de elementos! 4\n",
            "[10, 8, 9, 7]\n",
            "[7, 9, 8, 10]\n",
            "A soma dos elementos é : 34\n",
            "A média dos elementos é : 8.5\n",
            "Quantidade de valores acíma da media : 2\n",
            "Quantidade de valores abaixo de 7 : 0\n",
            "Fim do Programa\n"
          ]
        }
      ]
    },
    {
      "cell_type": "code",
      "source": [
        "#    15. Uma empresa de pesquisas precisa tabular os resultados da seguinte enquete feita a uma grande quantidade de organizações:\n",
        "#\"Qual o melhor Sistema Operacional para uso em servidores?\"\n",
        "#As possíveis respostas são:\n",
        "#1- Windows Server\n",
        "#2- Unix\n",
        "#3- Linux\n",
        "#4- Netware\n",
        "#5- Mac OS\n",
        "#6- Outro\n",
        "#Você foi contratado para desenvolver um programa que leia o resultado da enquete e informe ao final o resultado da mesma. O programa deverá ler os valores até ser informado o valor 0, que encerra a entrada dos dados. Não deverão ser aceitos valores além dos válidos para o programa (0 a 6). Os valores referentes a cada uma das opções devem ser armazenados numa lista. Após os dados terem sido completamente informados, o programa deverá calcular o percentual de cada um dos concorrentes e informar o vencedor da enquete. O formato da saída foi dado pela empresa, e é o seguinte:\n",
        "#Sistema Operacional     Votos   %\n",
        "#-------------------     -----   ---\n",
        "#Windows Server           1500   17%\n",
        "#Unix                     3500   40%\n",
        "#Linux                    3000   34%\n",
        "#Netware                   500    5%\n",
        "#Mac OS                    150    2%\n",
        "#Outro                     150    2%\n",
        "#-------------------     -----\n",
        "#Total                    8800\n",
        "#O Sistema Operacional mais votado foi o Unix, com 3500 votos, correspondendo a 40% dos votos.\n",
        "\n",
        "votos = [0] * 6\n",
        "opcoes = [\"Windows\", \"Unix\", \"Linux\", \"Netware\", \"Mac\", \"Outro\"]\n",
        "\n",
        "voto = -1\n",
        "while voto != 0:\n",
        "  voto = int(input(\"Informe o número da opção (1 a 6) ou 0 para encerrar: \"))\n",
        "\n",
        "  if 1 <= voto <= 6:\n",
        "     votos[voto - 1] += 1\n",
        "  if 0 < voto > 6:\n",
        "    print(\"Valor Inválido, Porfavor insira um valor válido! \")\n",
        "\n",
        "totalvotos = sum(votos)\n",
        "\n",
        "print(\"\\nSistema Operacional     Votos   %\")\n",
        "print(\"-------------------     -----   ---\")\n",
        "\n",
        "for i in range(len(opcoes)):\n",
        "  percentual = (votos[i]/totalvotos * 100) if totalvotos > 0 else 0\n",
        "  print(opcoes[i], votos[i], f\"{percentual:.0f}%\")\n",
        "\n",
        "print(\"-------------------     -----\")\n",
        "print(f\"Total                    {totalvotos}\")\n",
        "\n",
        "if totalvotos > 0:\n",
        "    max_votos = max(votos)\n",
        "    vencedores = [opcoes[i] for i in range(len(votos)) if votos[i] == max_votos]\n",
        "\n",
        "    if len(vencedores) > 1:\n",
        "      print(f\"\\nHouve um empate entre: {', '.join(vencedores)} com {max_votos} votos cada.\")\n",
        "    else:\n",
        "        vencedor = vencedores[0]\n",
        "        percentual_vencedor = (max_votos / totalvotos) * 100\n",
        "        print(f\"\\nO Sistema Operacional mais votado foi o {vencedor}, com {max_votos} votos, correspondendo a {percentualvencedor:.0f}% dos votos.\")\n",
        "else:\n",
        "    print(\"Nenhum voto foi registrado! \")\n",
        "\n",
        "\n",
        "\n",
        "\n"
      ],
      "metadata": {
        "id": "YYIT8gF_g1mg",
        "colab": {
          "base_uri": "https://localhost:8080/"
        },
        "outputId": "a7589141-58c6-48f1-e31b-2e14d6d24392"
      },
      "execution_count": null,
      "outputs": [
        {
          "output_type": "stream",
          "name": "stdout",
          "text": [
            "Informe o número da opção (1 a 6) ou 0 para encerrar: 0\n",
            "\n",
            "Sistema Operacional     Votos   %\n",
            "-------------------     -----   ---\n",
            "Windows 0 0%\n",
            "Unix 0 0%\n",
            "Linux 0 0%\n",
            "Netware 0 0%\n",
            "Mac 0 0%\n",
            "Outro 0 0%\n",
            "-------------------     -----\n",
            "Total                    0\n",
            "Nenhum voto registrado.\n"
          ]
        }
      ]
    },
    {
      "cell_type": "code",
      "source": [
        "# 16. Escreva um programa em Python para encontrar o segundo maior elemento de uma lista com 20 números inteiros.\n",
        "\n",
        "lista = []\n",
        "\n",
        "for i in range(4):\n",
        " numero = int(input(\"Digite os 20 números inteiros! \"))\n",
        " lista.append(numero)\n",
        "\n",
        "lista_copia = lista.copy()\n",
        "lista_copia.sort(reverse=True)\n",
        "\n",
        "if len(lista) >= 2:\n",
        "    segundo_maior = lista_copia[1]\n",
        "    print(f\"O segundo maior número inserido é: {segundo_maior}\")\n",
        "\n",
        "else:\n",
        "    print(\"Não há um segundo maior número, pois todos os números são iguais.\")"
      ],
      "metadata": {
        "colab": {
          "base_uri": "https://localhost:8080/"
        },
        "id": "OOcBjH5kAOhM",
        "outputId": "2d9ce7bc-fc17-4e22-f00e-945fd784a7ca"
      },
      "execution_count": 27,
      "outputs": [
        {
          "output_type": "stream",
          "name": "stdout",
          "text": [
            "Digite os 20 números inteiros! -2\n",
            "Digite os 20 números inteiros! 1\n",
            "Digite os 20 números inteiros! -2\n",
            "Digite os 20 números inteiros! 3\n",
            "O segundo maior número inserido é: 1\n"
          ]
        }
      ]
    },
    {
      "cell_type": "code",
      "source": [
        "#17 Escreva um programa em Python para converter um número inteiro em binário de acordo com a representação de grandeza com sinal (sinal e magnitude). O programa deve receber um número inteiro e produzir como saída uma lista com os bits do número convertido (um bit para cada posição da lista). Além disso deve ser feita a verificação se o número pode ser representado, considere uma representação com 8 bits (um para o sinal e 7 para a magnitude).\n",
        "\n",
        "num  = int(input(\"Informe o número: \"))\n",
        "numBinario =[]\n",
        "\n",
        "\n",
        "\n",
        "if num > 127 or num < -127:\n",
        "    print(\"Não é possível representar\")\n",
        "\n",
        "else:\n",
        "\n",
        "    if num < 0 :\n",
        "        sinal = 1\n",
        "        num = num * (-1)\n",
        "\n",
        "    else:\n",
        "        sinal = 0\n",
        "\n",
        "    while num > 0:\n",
        "            resto = num % 2\n",
        "            numBinario.append(resto)\n",
        "            num = num // 2\n",
        "\n",
        "    for i in range(7-len(numBinario)):\n",
        "        numBinario.append(0)\n",
        "    numBinario.append(sinal)\n",
        "    numBinario.reverse()\n",
        "    print(numBinario)"
      ],
      "metadata": {
        "id": "PSThQpZeGqtR"
      },
      "execution_count": null,
      "outputs": []
    },
    {
      "cell_type": "code",
      "source": [
        "#18 Leia uma matriz 4 x 4, conte e escreva quantos valores maiores que 10 ela possui.\n",
        "\n",
        "matriz = []\n",
        "\n",
        "for i in range(4):\n",
        "    linha = []\n",
        "    for j in range(4):\n",
        "        numero = int(input(f\"Digite o número para a posição ({i}, {j}): \"))\n",
        "        linha.append(numero)\n",
        "    matriz.append(linha)\n",
        "\n",
        "contador = 0\n",
        "\n",
        "for linha in matriz:\n",
        "    for numero in linha:\n",
        "        if numero > 10:\n",
        "            contador += 1\n",
        "\n",
        "print(\"\\nA matriz é:\")\n",
        "for linha in matriz:\n",
        "    print(linha)\n",
        "\n",
        "print(f\"\\nA quantidade de valores maiores que 10 na matriz é: {contador}\")\n"
      ],
      "metadata": {
        "id": "Djg61cYEIFbE"
      },
      "execution_count": null,
      "outputs": []
    },
    {
      "cell_type": "code",
      "source": [
        "#19 Declare uma matriz 5 x 5. Preencha com 1 a diagonal principal e com 0 os demais elementos. Escreva ao ﬁnal a matriz obtida.\n",
        "\n",
        "matriz5x5 = [[], [], [], [], []]\n",
        "for x in range(5):\n",
        "    for y in range(5):\n",
        "        matriz5x5[x].append(0)\n",
        "    for j in range(5):\n",
        "        matriz5x5[x][x] = 1  # Define o elemento da diagonal principal como 1\n",
        "for i in range(5):\n",
        "    print(matriz5x5[i])"
      ],
      "metadata": {
        "id": "yeIaLeQEP5eB",
        "colab": {
          "base_uri": "https://localhost:8080/"
        },
        "outputId": "c63f5728-f5f3-43e1-a42d-f762f487501a"
      },
      "execution_count": 28,
      "outputs": [
        {
          "output_type": "stream",
          "name": "stdout",
          "text": [
            "[1, 0, 0, 0, 0]\n",
            "[0, 1, 0, 0, 0]\n",
            "[0, 0, 1, 0, 0]\n",
            "[0, 0, 0, 1, 0]\n",
            "[0, 0, 0, 0, 1]\n"
          ]
        }
      ]
    },
    {
      "cell_type": "code",
      "source": [
        "#20 Leia uma matriz 5 x 5. Leia também um valor X. O programa deverá fazer uma busca desse valor na matriz e, ao ﬁnal, escrever a localizacão (linha e coluna) ou uma mensagem de “não encontrado”.\n",
        "\n",
        "matriz = []\n",
        "\n",
        "for i in range(5):\n",
        "    linha = []\n",
        "    for j in range(5):\n",
        "        numero = int(input(f\"Digite o número para a posição ({i}, {j}): \"))\n",
        "        linha.append(numero)\n",
        "    matriz.append(linha)\n",
        "\n",
        "valor = int(input(\"Digite o valor que deseja buscar na matriz: \"))\n",
        "\n",
        "posicao = (-1, -1)\n",
        "\n",
        "for i in range(5):\n",
        "    for j in range(5):\n",
        "        if matriz[i][j] == valor:\n",
        "           posicao = (i,j)\n",
        "\n",
        "if posicao != (-1, -1):\n",
        "  print(f\"O valor inserido{valor} foi encontrado e está na posição {posicao}\")\n",
        "else:\n",
        "  print(\"O valor inserido não foi encontrado! \")\n"
      ],
      "metadata": {
        "id": "V2ndpDejecsR"
      },
      "execution_count": null,
      "outputs": []
    },
    {
      "cell_type": "code",
      "source": [
        "#21 Leia duas matrizes 4x4 e escreva uma terceira com os maiores valores de cada posição das matrizes lidas.\n",
        "\n",
        "matriz1 = []\n",
        "matriz2= []\n",
        "matrizmaior =[]\n",
        "\n",
        "for i in range(4):\n",
        "    linha = []\n",
        "    for j in range(4):\n",
        "        numero = int(input(f\"Digite o número para a posição ({i}, {j}): \"))\n",
        "        linha.append(numero)\n",
        "    matriz1.append(linha)\n",
        "\n",
        "for i in range(4):\n",
        "    linha = []\n",
        "    for j in range(4):\n",
        "        numero = int(input(f\"Digite o número para a posição ({i}, {j}): \"))\n",
        "        linha.append(numero)\n",
        "    matriz2.append(linha)\n",
        "\n",
        "for i in range(4):\n",
        "    linhamaior = []\n",
        "    for j in range(4):\n",
        "        maiorvalor = max(matriz1[i][j], matriz2[i][j])\n",
        "        linhamaior.append(maiorvalor)\n",
        "    matrizmaior.append(linhamaior)\n",
        "\n",
        "print(\"Matriz com os maiores valores:\")\n",
        "for linha in matrizmaior:\n",
        "    print(linha)\n",
        "\n",
        "\n"
      ],
      "metadata": {
        "id": "5aCZd-89nsLr"
      },
      "execution_count": null,
      "outputs": []
    },
    {
      "cell_type": "code",
      "source": [
        "#22     22. Gerar e imprimir uma matriz de tamanho 10 x 10, onde seus elementos são da forma:\n",
        "#        a. A[i][j] = 2i + 7j −2 se i < j;\n",
        "#        b. A[i][j] = 3i2 −1 se i = j;\n",
        "#        c. A[i][j] = 4i3 −5j2 + 1 se i > j.\n",
        "\n",
        "matriz = []\n",
        "for i in range(10):\n",
        "    linha = []\n",
        "    for j in range(10):\n",
        "        if i < j:\n",
        "            linha.append(2 * i + 7 * j - 2)\n",
        "        elif i == j:\n",
        "            linha.append(3 * (i**2) - 1)\n",
        "        else:\n",
        "            linha.append(4 * (i**3) - 5 * (j**2) + 1)\n",
        "    matriz.append(linha)\n",
        "\n",
        "for linha in matriz:\n",
        "    print(linha)"
      ],
      "metadata": {
        "id": "6Tv72EOF32cj",
        "colab": {
          "base_uri": "https://localhost:8080/"
        },
        "outputId": "378b897c-fd14-4f94-b93d-9696febe3445"
      },
      "execution_count": null,
      "outputs": [
        {
          "output_type": "stream",
          "name": "stdout",
          "text": [
            "[-1, 5, 12, 19, 26, 33, 40, 47, 54, 61]\n",
            "[5, 2, 14, 21, 28, 35, 42, 49, 56, 63]\n",
            "[33, 28, 11, 23, 30, 37, 44, 51, 58, 65]\n",
            "[109, 104, 89, 26, 32, 39, 46, 53, 60, 67]\n",
            "[257, 252, 237, 212, 47, 41, 48, 55, 62, 69]\n",
            "[501, 496, 481, 456, 421, 74, 50, 57, 64, 71]\n",
            "[865, 860, 845, 820, 785, 740, 107, 59, 66, 73]\n",
            "[1373, 1368, 1353, 1328, 1293, 1248, 1193, 146, 68, 75]\n",
            "[2049, 2044, 2029, 2004, 1969, 1924, 1869, 1804, 191, 77]\n",
            "[2917, 2912, 2897, 2872, 2837, 2792, 2737, 2672, 2597, 242]\n"
          ]
        }
      ]
    },
    {
      "cell_type": "code",
      "source": [
        "#23 Leia uma matriz de 3 x 3 elementos. Calcule a soma dos elementos que estão acima da diagonal principal.\n",
        "\n",
        "matriz = []\n",
        "\n",
        "for i in range(3):\n",
        "    linha = []\n",
        "    for j in range(3):\n",
        "        numero = int(input(f\"Digite o número para a posição ({i}, {j}): \"))\n",
        "        linha.append(numero)\n",
        "    matriz.append(linha)\n",
        "\n",
        "soma = 0\n",
        "for i in range(3):\n",
        "    for j in range(3):\n",
        "      if i < j:\n",
        "         soma += matriz[i][j]\n",
        "\n",
        "print(f\"A soma dos elementos acima da diagonal principal é: {soma}\")\n",
        "\n",
        "for linha in matriz:\n",
        "    print(\" | \".join(f\"{num:2}\" for num in linha))\n"
      ],
      "metadata": {
        "id": "PPAeHW_D88oG",
        "colab": {
          "base_uri": "https://localhost:8080/"
        },
        "outputId": "38cd46f6-a885-494a-c6a1-025a71fb828d"
      },
      "execution_count": 29,
      "outputs": [
        {
          "output_type": "stream",
          "name": "stdout",
          "text": [
            "Digite o número para a posição (0, 0): -2\n",
            "Digite o número para a posição (0, 1): 2\n",
            "Digite o número para a posição (0, 2): -4\n",
            "Digite o número para a posição (1, 0): 8\n",
            "Digite o número para a posição (1, 1): 3\n",
            "Digite o número para a posição (1, 2): -3\n",
            "Digite o número para a posição (2, 0): 4\n",
            "Digite o número para a posição (2, 1): -4\n",
            "Digite o número para a posição (2, 2): 5\n",
            "A soma dos elementos acima da diagonal principal é: -5\n",
            "-2 |  2 | -4\n",
            " 8 |  3 | -3\n",
            " 4 | -4 |  5\n"
          ]
        }
      ]
    },
    {
      "cell_type": "code",
      "source": [
        "#24 Leia uma matriz de 3 x 3 elementos. Calcule a soma dos elementos que estão na diagonal principal.\n",
        "\n",
        "matriz = []\n",
        "\n",
        "for i in range(3):\n",
        "    linha = []\n",
        "    for j in range(3):\n",
        "        numero = int(input(f\"Digite o número para a posição ({i}, {j}): \"))\n",
        "        linha.append(numero)\n",
        "    matriz.append(linha)\n",
        "\n",
        "somadiagonal = 0\n",
        "for i in range(3):\n",
        "    somadiagonal += matriz[i][i]\n",
        "\n",
        "\n",
        "print(f\"A soma dos elementos da diagonal principal é: {somadiagonal}\")\n",
        "\n",
        "for linha in matriz:\n",
        "    print(\" | \".join(f\"{num:2}\" for num in linha))"
      ],
      "metadata": {
        "id": "3KVDTQrUAaLs"
      },
      "execution_count": null,
      "outputs": []
    },
    {
      "cell_type": "code",
      "source": [
        "#25 Leia uma matriz de 3 x 3 elementos. Calcule a soma dos elementos que estão na diagonal secundária.\n",
        "\n",
        "matriz = []\n",
        "\n",
        "for i in range(3):\n",
        "    linha = []\n",
        "    for j in range(3):\n",
        "        numero = int(input(f\"Digite o número para a posição ({i}, {j}): \"))\n",
        "        linha.append(numero)\n",
        "    matriz.append(linha)\n",
        "\n",
        "somadiagonalsec = 0\n",
        "for i in range(3):\n",
        "     somadiagonalsec += matriz[i][2 - i]\n",
        "\n",
        "\n",
        "print(f\"A soma dos elementos acima da diagonal secundária é: {somadiagonalsec}\")\n",
        "\n",
        "for linha in matriz:\n",
        "    print(\" | \".join(f\"{num:2}\" for num in linha))\n",
        "\n"
      ],
      "metadata": {
        "id": "eRZe2j5PBpjS"
      },
      "execution_count": null,
      "outputs": []
    },
    {
      "cell_type": "code",
      "source": [
        "#26 Escreva um programa que transforme uma matriz 4x4 numa matriz triangular inferior, ou seja, atribuindo zero a todos os elementos acima da diagonal principal. Imprima a matriz original e a matriz transformada.\n",
        "\n",
        "matriz = []\n",
        "\n",
        "for i in range(4):\n",
        "    linha = []\n",
        "    for j in range(4):\n",
        "        numero = int(input(f\"Digite o número para a posição ({i}, {j}): \"))\n",
        "        linha.append(numero)\n",
        "    matriz.append(linha)\n",
        "\n",
        "copiamatriz = []\n",
        "for linha in matriz:\n",
        "    copiamatriz.append(linha[:])  # Copia cada linha\n",
        "\n",
        "for i in range(4):\n",
        "  for j in range(4):\n",
        "    if i < j:\n",
        "      copiamatriz[i][j] = 0\n",
        "\n",
        "print(\"\\nMatriz Original:\")\n",
        "for linha in matriz:\n",
        "    print(\" | \".join(f\"{num:2}\" for num in linha))\n",
        "\n",
        "print(\"\\nMatriz Triangular Inferior:\")\n",
        "for linha in copiamatriz:\n",
        "    print(\" | \".join(f\"{num:2}\" for num in linha))\n",
        "\n"
      ],
      "metadata": {
        "id": "iG-ZHzhzEzs2"
      },
      "execution_count": null,
      "outputs": []
    },
    {
      "cell_type": "code",
      "source": [
        "#27 Faça um programa que leia duas matrizes 2 x 2 com valores reais. Ofereça ao usuário um menu de opções:\n",
        "# (a) somar as duas matrizes\n",
        "# (b) subtrair a primeira matriz da segunda\n",
        "# (c) adicionar uma constante `as duas matrizes\n",
        "# (d) imprimir as matrizes.\n",
        "#Nas duas primeiras opções uma terceira matriz deve ser criada.\n",
        "# Na terceira opção o valor da constante deve ser lido e o resultado da adição da constante deve ser armazenado na própria matriz.\n",
        "\n",
        "matriz1 = []\n",
        "matriz2 = []\n",
        "\n",
        "for i in range(2):\n",
        "    linha = []\n",
        "    for j in range(2):\n",
        "     numero = int(input(f\"Digite o número para a posição ({i}, {j}) da matriz 1: \"))\n",
        "     linha.append(numero)\n",
        "    matriz1.append(linha)\n",
        "\n",
        "for i in range(2):\n",
        "    linha = []\n",
        "    for j in range(2):\n",
        "       numero = int(input(f\"Digite o número para a posição ({i}, {j}) da matriz 2: \"))\n",
        "       linha.append(numero)\n",
        "    matriz2.append(linha)\n",
        "\n",
        "opcao = 0\n",
        "\n",
        "while opcao != 5:\n",
        "    print(\"\\nMenu de opções:\")\n",
        "    print(\"1. Somar as duas matrizes\")\n",
        "    print(\"2. Subtrair a primeira matriz da segunda\")\n",
        "    print(\"3. Adicionar uma constante às duas matrizes\")\n",
        "    print(\"4. Imprimir as matrizes\")\n",
        "    print(\"5. Sair\")\n",
        "\n",
        "    opcao = int(input(\"Escolha uma opção: \"))\n",
        "\n",
        "    if opcao == 1:\n",
        "      matrizsoma = []\n",
        "      for i in range(2):\n",
        "            linha = []\n",
        "            for j in range(2):\n",
        "                linha.append(matriz1[i][j] + matriz2[i][j])\n",
        "            matrizsoma.append(linha)\n",
        "\n",
        "      print(\"\\nResultado da soma:\")\n",
        "      for linha in matrizsoma:\n",
        "        print(\" | \".join(f\"{num:5.2f}\" for num in linha))\n",
        "\n",
        "    elif opcao == 2:\n",
        "       matrizsubtracao = []\n",
        "       for i in range(2):\n",
        "           linha = []\n",
        "           for j in range(2):\n",
        "              linha.append(matriz1[i][j] - matriz2[i][j])\n",
        "           matrizsubtracao.append(linha)\n",
        "\n",
        "       print(\"\\nResultado da subtração:\")\n",
        "       for linha in matrizsubtracao:\n",
        "             print(\" | \".join(f\"{num:5.2f}\" for num in linha))\n",
        "\n",
        "    elif opcao == 3:\n",
        "         constante = float(input(\"Digite a constante a ser adicionada: \"))\n",
        "\n",
        "         for i in range(2):\n",
        "            for j in range(2):\n",
        "                matriz1[i][j] += constante\n",
        "                matriz2[i][j] += constante\n",
        "\n",
        "         print(\"\\nMatriz 1 após adicionar constante:\")\n",
        "         for linha in matriz1:\n",
        "            print(\" | \".join(f\"{num:5.2f}\" for num in linha))\n",
        "\n",
        "         print(\"\\nMatriz 2 após adicionar constante:\")\n",
        "         for linha in matriz2:\n",
        "              print(\" | \".join(f\"{num:5.2f}\" for num in linha))\n",
        "\n",
        "    elif opcao == 4:\n",
        "        print(\"\\nMatriz 1:\")\n",
        "        for linha in matriz1:\n",
        "            print(\" | \".join(f\"{num:5.2f}\" for num in linha))\n",
        "\n",
        "        print(\"\\nMatriz 2:\")\n",
        "        for linha in matriz2:\n",
        "            print(\" | \".join(f\"{num:5.2f}\" for num in linha))\n",
        "\n",
        "    elif opcao == 5:\n",
        "        print(\"Saindo...\")\n",
        "\n",
        "    else:\n",
        "        print(\"Opção inválida, por favor escolha novamente.\")"
      ],
      "metadata": {
        "id": "uuizUtAp-jE1"
      },
      "execution_count": null,
      "outputs": []
    },
    {
      "cell_type": "code",
      "source": [
        "#28 Escreva um programa em Python para corrigir uma prova com 10 questões de múltipla escolha (a, b, c, d ou e), em uma turma com 15 alunos. Cada questão vale 1 ponto. Leia o gabarito apenas uma vez, e para cada aluno leia sua matricula (número inteiro) e suas respostas. Calcule e escreva para cada aluno: sua matrícula, suas respostas, e sua nota. OBS: utilizar matrizes na solução.\n",
        "\n",
        "matrizAlunos = []\n",
        "gabarito = [\"a\", \"b\",\"a\", \"b\",\"a\", \"b\",\"a\", \"b\",\"a\", \"b\"]\n",
        "\n",
        "for i in range(2):\n",
        "    linha = []\n",
        "    contrespostasCertas = 0\n",
        "    matricula = int(input())\n",
        "    linha.append(matricula)\n",
        "    for i in range(10):\n",
        "        resposta = input(\"Resposta questão \" + str(i+1))\n",
        "        linha.append(resposta)\n",
        "        if resposta == gabarito[i]:\n",
        "            contrespostasCertas += 1\n",
        "    linha.append(contrespostasCertas)\n",
        "    matrizAlunos.append(linha)\n",
        "\n",
        "print(\"g= \", gabarito)\n",
        "\n",
        "for i in range(len(matrizAlunos)):\n",
        "    print(matrizAlunos[i])\n",
        "\n",
        "print(matrizAlunos)\n"
      ],
      "metadata": {
        "id": "dMmkA5IIpkjf"
      },
      "execution_count": null,
      "outputs": []
    },
    {
      "cell_type": "code",
      "source": [
        "#29  Uma loja vende sapatos femininos de três marcas: A, B e C e tamanhos de 35 a 40. O gerente da loja lhe solicitou um programa para manipular dados referentes ao estoque desta loja. Desta forma, você deve ler para cada marca de sapato e numeração a sua respectiva quantidade e informar a numeração que possui a maior quantidade em estoque. A seguir é apresentado um exemplo de tabela com os dados do estoque.\n",
        "\n",
        "#Tamanhos\n",
        "#TAMANHOS 35  36  37  38  39  40\n",
        "#Marca A 30  50  20  20  18  10\n",
        "#Marca B 40  100 30  10  18  3\n",
        "#Marca C 50  120 65  11  4   6\n",
        "#Numeração com maior quantidade em estoque: 36 (270 unidades)\n",
        "#OBS: a solução deve utilizar matrizes.\n",
        "\n",
        "\n",
        "estoque = [[0 for j in range(6)] for i in range(3)]\n",
        "\n",
        "\n",
        "tamanhos = [35, 36, 37, 38, 39, 40]\n",
        "marcas = ['A', 'B', 'C']\n",
        "for i in range(3):\n",
        "    for j in range(6):\n",
        "        estoque[i][j] = int(input(f'Digite a quantidade da Marca {marcas[i]} no tamanho {tamanhos[j]}: '))\n",
        "\n",
        "maior_quantidade = 0\n",
        "tamanho_maior = 0\n",
        "total_por_tamanho = [0] * 6\n",
        "for j in range(6):\n",
        "    for i in range(3):\n",
        "        total_por_tamanho[j] += estoque[i][j]\n",
        "    if total_por_tamanho[j] > maior_quantidade:\n",
        "        maior_quantidade = total_por_tamanho[j]\n",
        "        tamanho_maior = tamanhos[j]\n",
        "\n",
        "\n",
        "print(f'Numeração com maior quantidade em estoque: {tamanho_maior} ({maior_quantidade} unidades)')\n",
        "\n"
      ],
      "metadata": {
        "id": "BnVkmgZ0pyBJ",
        "colab": {
          "base_uri": "https://localhost:8080/"
        },
        "outputId": "e453a475-9350-4c28-89f0-b3407639f5e4"
      },
      "execution_count": null,
      "outputs": [
        {
          "output_type": "stream",
          "name": "stdout",
          "text": [
            "Digite a quantidade da Marca A no tamanho 35: 1\n",
            "Digite a quantidade da Marca A no tamanho 36: 1\n",
            "Digite a quantidade da Marca A no tamanho 37: 1\n",
            "Digite a quantidade da Marca A no tamanho 38: 1\n",
            "Digite a quantidade da Marca A no tamanho 39: 1\n",
            "Digite a quantidade da Marca A no tamanho 40: 10\n",
            "Digite a quantidade da Marca B no tamanho 35: 10\n",
            "Digite a quantidade da Marca B no tamanho 36: 2\n",
            "Digite a quantidade da Marca B no tamanho 37: 3\n",
            "Digite a quantidade da Marca B no tamanho 38: 1\n",
            "Digite a quantidade da Marca B no tamanho 39: 4\n",
            "Digite a quantidade da Marca B no tamanho 40: 5\n",
            "Digite a quantidade da Marca C no tamanho 35: 6\n",
            "Digite a quantidade da Marca C no tamanho 36: 7\n",
            "Digite a quantidade da Marca C no tamanho 37: 1\n",
            "Digite a quantidade da Marca C no tamanho 38: 2\n",
            "Digite a quantidade da Marca C no tamanho 39: 3\n",
            "Digite a quantidade da Marca C no tamanho 40: 5\n",
            "Numeração com maior quantidade em estoque: 40 (20 unidades)\n"
          ]
        }
      ]
    },
    {
      "cell_type": "code",
      "source": [
        "#30. Um produtor agrícola lhe contratou para desenvolver um sistema de controle de grãos produzidos em três regiões; Sul, Sudeste e Centro-Oeste. A ideia da solução consistem em inserir a quantidade de grãos produzidos por cada região nos anos de 2017 e 2018 e ao final o programa deve gerar uma nova matriz com previsão de produção para o ano de 2019. A previsão é calculada a partir da porcentagem de crescimento para cada tipo de grão, que se mantém fixa a cada ano. A seguir é apresentado um exemplo de tabelas com os dados fornecidos pelo produtor.\n",
        "\n",
        "ano_2017 = [[100,200,300,400],[2700,450,600,1200],[600,400,550,450]]\n",
        "\n",
        "ano_2018 = [[130,230,600,500],[3000,500,700,1200],[500,200,200,100]]\n",
        "\n",
        "ano_2019 = [[0,0,0,0],[0,0,0,0],[0,0,0,0]]\n",
        "\n",
        "\n",
        "#ano_2017 = []\n",
        "#for i in range(3):\n",
        "#    linha = []\n",
        "#    for j in range(4):\n",
        "#        linha.append(int(input('Informe a quantidade de grãos')))\n",
        "#    ano_2017.append(linha)\n",
        "\n",
        "\n",
        "for i in range(len(ano_2017)):\n",
        "    for j in range(len(ano_2017[0])):\n",
        "        porcentagem = (ano_2018[i][j] - ano_2017[i][j])/ano_2017[i][j]\n",
        "        ano_2019[i][j] = (1 + porcentagem) * ano_2018[i][j]\n",
        "\n",
        "\n",
        "for i in range(len(ano_2019)):1\n",
        "  print(ano_2019[i])\n",
        "\n"
      ],
      "metadata": {
        "id": "bxk65n9vy2KR"
      },
      "execution_count": null,
      "outputs": []
    }
  ]
}